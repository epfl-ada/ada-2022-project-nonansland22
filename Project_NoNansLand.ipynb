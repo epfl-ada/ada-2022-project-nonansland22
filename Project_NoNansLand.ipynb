{
 "cells": [
  {
   "cell_type": "code",
   "execution_count": 58,
   "metadata": {},
   "outputs": [
    {
     "data": {
      "text/plain": [
       "'\\nFile name: Project.ipynb\\nDate created: 01/11/2022\\nDate last modified: 15/11/2022\\nPython Version: 3.9.13\\n'"
      ]
     },
     "execution_count": 58,
     "metadata": {},
     "output_type": "execute_result"
    }
   ],
   "source": [
    "'''\n",
    "File name: Project.ipynb\n",
    "Date created: 01/11/2022\n",
    "Date last modified: 15/11/2022\n",
    "Python Version: 3.9.13\n",
    "'''"
   ]
  },
  {
   "cell_type": "code",
   "execution_count": 59,
   "metadata": {},
   "outputs": [],
   "source": [
    "import pandas as pd\n",
    "import matplotlib.pyplot as plt\n",
    "from itertools import combinations  #used to create unique pairs from a list\n",
    "import numpy as np\n",
    "import plotly.express as px  #for plots with integrated cursor for better visualization\n",
    "from pandas_profiling import ProfileReport\n",
    "\n",
    "DATA_FOLDER = 'MovieSummaries/'"
   ]
  },
  {
   "cell_type": "code",
   "execution_count": 60,
   "metadata": {},
   "outputs": [],
   "source": [
    "#Create dataframes from the orignal dataset \n",
    "moviedata = pd.read_csv(DATA_FOLDER + 'movie.metadata.tsv', sep = '\\t', index_col='wiki_id' , header=None, names=('wiki_id','freebase_id','movie_name','release','revenue','runtime','languages','countries','genres'))\n",
    "charadata = pd.read_csv(DATA_FOLDER + 'character.metadata.tsv', sep = '\\t', header=None, names=('wiki_id','freebase_id','release','character_name','actor_dob','actor_gender','actor_height','actor_ethnicity','actor_name','actor_age','freebase_chara_map1','freebase_chara_map2','freebase_chara_map3'))\n",
    "plots =  pd.read_csv(DATA_FOLDER + 'plot_summaries.txt', sep = '\\t', header=None, names=('wiki_id','plot'))"
   ]
  },
  {
   "cell_type": "code",
   "execution_count": 61,
   "metadata": {},
   "outputs": [],
   "source": [
    "#Set the commom index present in all datasets as wiki_id\n",
    "charadata.set_index('wiki_id',inplace=True)\n",
    "plots.set_index('wiki_id',inplace=True)"
   ]
  },
  {
   "cell_type": "markdown",
   "metadata": {},
   "source": [
    "### Data Exploration"
   ]
  },
  {
   "cell_type": "code",
   "execution_count": 62,
   "metadata": {},
   "outputs": [],
   "source": [
    "#Filter the three datasets to obtain only movies which have a list of characters and a plot summary\n",
    "indexes = moviedata.index.intersection(charadata.index)\n",
    "indexes = plots.index.intersection(indexes)\n",
    "\n",
    "#Create new filtered dataset using indexes of movies common to the three datasets\n",
    "moviedata_intersect = moviedata.loc[indexes]\n",
    "charadata_intersect = charadata.loc[indexes]\n",
    "plots_intersect = plots.loc[indexes]"
   ]
  },
  {
   "cell_type": "code",
   "execution_count": 63,
   "metadata": {},
   "outputs": [
    {
     "name": "stdout",
     "output_type": "stream",
     "text": [
      "We had originally the plot summaries of 42303 movies. After the intersect, we get a total of 37779 movies from which we have the characters and the plot summaries. Proportion filtered out : 10.69%.\n",
      "\n",
      "The movie metadata contained originally 81741 movies. After filtering the dataset, we get 37779 movies. Proportion filtered out : 53.78%.\n",
      "\n",
      "The character metadata contained originally 450669 characters. After filtering the dataset, we get 308485 characters. Proportion filtered out : 31.55%.\n"
     ]
    }
   ],
   "source": [
    "print('We had originally the plot summaries of {} movies. After the intersect, we get a total of {} movies from which we have the characters and the plot summaries. Proportion filtered out : {:.2%}.\\n'.format(len(plots),len(plots_intersect),1-(len(plots_intersect)/len(plots))))\n",
    "print('The movie metadata contained originally {} movies. After filtering the dataset, we get {} movies. Proportion filtered out : {:.2%}.\\n'.format(len(moviedata),len(moviedata_intersect),1-(len(moviedata_intersect)/len(moviedata))))\n",
    "print('The character metadata contained originally {} characters. After filtering the dataset, we get {} characters. Proportion filtered out : {:.2%}.'.format(len(charadata),len(charadata_intersect),1-(len(charadata_intersect)/len(charadata))))"
   ]
  },
  {
   "cell_type": "markdown",
   "metadata": {},
   "source": [
    "#### Analysis resultig from profiling : \n",
    "\n",
    "Movies dataset :\n",
    "\n",
    "- 80% of missing values in revenue : we cannot use this feature.\n",
    "\n",
    "- Outliers within runtime :  *We are not going to use this feature*\n",
    "\n",
    " Character dataset :  \n",
    " \n",
    "- Unknowed gender : *These actors play unnamed character in 80% of the cases, we could avoid using them when running some analysis*\n",
    "\n",
    "- Outlier in actor age : *225 values <0 probably dur to mistakes, we take these values out to observe distribution*\n",
    "\n",
    "- Ethnicity : Hard to use, 75% of missing values\n",
    "\n",
    "- Height : 60% of missing values and outliers, anyway useless feature in our case"
   ]
  },
  {
   "cell_type": "code",
   "execution_count": 64,
   "metadata": {},
   "outputs": [
    {
     "data": {
      "text/html": [
       "<div>\n",
       "<style scoped>\n",
       "    .dataframe tbody tr th:only-of-type {\n",
       "        vertical-align: middle;\n",
       "    }\n",
       "\n",
       "    .dataframe tbody tr th {\n",
       "        vertical-align: top;\n",
       "    }\n",
       "\n",
       "    .dataframe thead th {\n",
       "        text-align: right;\n",
       "    }\n",
       "</style>\n",
       "<table border=\"1\" class=\"dataframe\">\n",
       "  <thead>\n",
       "    <tr style=\"text-align: right;\">\n",
       "      <th></th>\n",
       "      <th>revenue</th>\n",
       "      <th>runtime</th>\n",
       "    </tr>\n",
       "  </thead>\n",
       "  <tbody>\n",
       "    <tr>\n",
       "      <th>count</th>\n",
       "      <td>7.496000e+03</td>\n",
       "      <td>3.257000e+04</td>\n",
       "    </tr>\n",
       "    <tr>\n",
       "      <th>mean</th>\n",
       "      <td>5.226429e+07</td>\n",
       "      <td>1.337374e+02</td>\n",
       "    </tr>\n",
       "    <tr>\n",
       "      <th>std</th>\n",
       "      <td>1.172850e+08</td>\n",
       "      <td>5.979946e+03</td>\n",
       "    </tr>\n",
       "    <tr>\n",
       "      <th>min</th>\n",
       "      <td>1.020000e+04</td>\n",
       "      <td>5.666667e-01</td>\n",
       "    </tr>\n",
       "    <tr>\n",
       "      <th>25%</th>\n",
       "      <td>2.543856e+06</td>\n",
       "      <td>8.800000e+01</td>\n",
       "    </tr>\n",
       "    <tr>\n",
       "      <th>50%</th>\n",
       "      <td>1.272980e+07</td>\n",
       "      <td>9.700000e+01</td>\n",
       "    </tr>\n",
       "    <tr>\n",
       "      <th>75%</th>\n",
       "      <td>4.630821e+07</td>\n",
       "      <td>1.110000e+02</td>\n",
       "    </tr>\n",
       "    <tr>\n",
       "      <th>max</th>\n",
       "      <td>2.782275e+09</td>\n",
       "      <td>1.079281e+06</td>\n",
       "    </tr>\n",
       "  </tbody>\n",
       "</table>\n",
       "</div>"
      ],
      "text/plain": [
       "            revenue       runtime\n",
       "count  7.496000e+03  3.257000e+04\n",
       "mean   5.226429e+07  1.337374e+02\n",
       "std    1.172850e+08  5.979946e+03\n",
       "min    1.020000e+04  5.666667e-01\n",
       "25%    2.543856e+06  8.800000e+01\n",
       "50%    1.272980e+07  9.700000e+01\n",
       "75%    4.630821e+07  1.110000e+02\n",
       "max    2.782275e+09  1.079281e+06"
      ]
     },
     "execution_count": 64,
     "metadata": {},
     "output_type": "execute_result"
    }
   ],
   "source": [
    "moviedata_intersect.describe()"
   ]
  },
  {
   "cell_type": "markdown",
   "metadata": {},
   "source": [
    "Code to observe these statements : "
   ]
  },
  {
   "cell_type": "code",
   "execution_count": 65,
   "metadata": {},
   "outputs": [
    {
     "name": "stdout",
     "output_type": "stream",
     "text": [
      "wiki_id\n",
      "25930191       1560.00\n",
      "147213          544.00\n",
      "2792417         401.00\n",
      "1060418         417.00\n",
      "19653659        700.00\n",
      "24871531        599.00\n",
      "10815585    1079281.00\n",
      "36136594       4875.27\n",
      "24873771       1440.00\n",
      "11829180       1200.00\n",
      "Name: runtime, dtype: float64\n",
      "Number of movies with excessive runtime : 20\n",
      "As we won't use this feature, these outliers are not important.\n"
     ]
    }
   ],
   "source": [
    "#Look at outliers in movies runtime\n",
    "print(moviedata_intersect['runtime'][moviedata_intersect['runtime']>400].head(10))\n",
    "print(\"Number of movies with excessive runtime :\", moviedata_intersect['runtime'][moviedata_intersect['runtime']>400].shape[0])\n",
    "print(\"As we won't use this feature, these outliers are not important.\")"
   ]
  },
  {
   "cell_type": "code",
   "execution_count": 66,
   "metadata": {},
   "outputs": [
    {
     "name": "stdout",
     "output_type": "stream",
     "text": [
      "Proportion of character without name among actors whose gender is unknown : 81.81%\n"
     ]
    }
   ],
   "source": [
    "#Look at missing values in actor_gender\n",
    "print (\"Proportion of character without name among actors whose gender is unknown : {0:.2%}\".format(charadata_intersect['character_name'][charadata_intersect['actor_gender'].isna()].isna().sum()/len(charadata_intersect['character_name'][charadata_intersect['actor_gender'].isna()])))"
   ]
  },
  {
   "cell_type": "markdown",
   "metadata": {},
   "source": [
    "As we can see, most of non specificied genders arise from unnamed characters, which probably means that these characters are negligable. Thus, we won't take these characters into acount when running analysis on genders."
   ]
  },
  {
   "cell_type": "code",
   "execution_count": 67,
   "metadata": {},
   "outputs": [
    {
     "name": "stdout",
     "output_type": "stream",
     "text": [
      "Number of errors in actors age : 225\n"
     ]
    },
    {
     "data": {
      "text/html": [
       "<div>\n",
       "<style scoped>\n",
       "    .dataframe tbody tr th:only-of-type {\n",
       "        vertical-align: middle;\n",
       "    }\n",
       "\n",
       "    .dataframe tbody tr th {\n",
       "        vertical-align: top;\n",
       "    }\n",
       "\n",
       "    .dataframe thead th {\n",
       "        text-align: right;\n",
       "    }\n",
       "</style>\n",
       "<table border=\"1\" class=\"dataframe\">\n",
       "  <thead>\n",
       "    <tr style=\"text-align: right;\">\n",
       "      <th></th>\n",
       "      <th>freebase_id</th>\n",
       "      <th>release</th>\n",
       "      <th>character_name</th>\n",
       "      <th>actor_dob</th>\n",
       "      <th>actor_gender</th>\n",
       "      <th>actor_height</th>\n",
       "      <th>actor_ethnicity</th>\n",
       "      <th>actor_name</th>\n",
       "      <th>actor_age</th>\n",
       "      <th>freebase_chara_map1</th>\n",
       "      <th>freebase_chara_map2</th>\n",
       "      <th>freebase_chara_map3</th>\n",
       "    </tr>\n",
       "    <tr>\n",
       "      <th>wiki_id</th>\n",
       "      <th></th>\n",
       "      <th></th>\n",
       "      <th></th>\n",
       "      <th></th>\n",
       "      <th></th>\n",
       "      <th></th>\n",
       "      <th></th>\n",
       "      <th></th>\n",
       "      <th></th>\n",
       "      <th></th>\n",
       "      <th></th>\n",
       "      <th></th>\n",
       "    </tr>\n",
       "  </thead>\n",
       "  <tbody>\n",
       "    <tr>\n",
       "      <th>22829</th>\n",
       "      <td>/m/05q8n</td>\n",
       "      <td>1965-06-01</td>\n",
       "      <td>The Black Ghoul</td>\n",
       "      <td>1978-07-18</td>\n",
       "      <td>F</td>\n",
       "      <td>NaN</td>\n",
       "      <td>/m/03ts0c</td>\n",
       "      <td>Cheyenne Silver</td>\n",
       "      <td>-13.0</td>\n",
       "      <td>/m/0cbwtz8</td>\n",
       "      <td>/m/0cbwtzc</td>\n",
       "      <td>/m/06616j</td>\n",
       "    </tr>\n",
       "    <tr>\n",
       "      <th>4210812</th>\n",
       "      <td>/m/0bq4vz</td>\n",
       "      <td>1910-03-24</td>\n",
       "      <td>Glinda</td>\n",
       "      <td>1992-02-17</td>\n",
       "      <td>M</td>\n",
       "      <td>NaN</td>\n",
       "      <td>NaN</td>\n",
       "      <td>Olive Cox</td>\n",
       "      <td>-81.0</td>\n",
       "      <td>/m/09z696c</td>\n",
       "      <td>/m/022qn6</td>\n",
       "      <td>/m/09z696h</td>\n",
       "    </tr>\n",
       "    <tr>\n",
       "      <th>5626726</th>\n",
       "      <td>/m/0dx12p</td>\n",
       "      <td>1936-02-14</td>\n",
       "      <td>NaN</td>\n",
       "      <td>1944-12-09</td>\n",
       "      <td>M</td>\n",
       "      <td>NaN</td>\n",
       "      <td>NaN</td>\n",
       "      <td>Bob O'Connor</td>\n",
       "      <td>-8.0</td>\n",
       "      <td>/m/0k4k1m</td>\n",
       "      <td>NaN</td>\n",
       "      <td>/m/064_gh</td>\n",
       "    </tr>\n",
       "    <tr>\n",
       "      <th>7735007</th>\n",
       "      <td>/m/0kvg60</td>\n",
       "      <td>1966</td>\n",
       "      <td>NaN</td>\n",
       "      <td>1996-08-14</td>\n",
       "      <td>M</td>\n",
       "      <td>NaN</td>\n",
       "      <td>NaN</td>\n",
       "      <td>Jack Fletcher</td>\n",
       "      <td>-30.0</td>\n",
       "      <td>/m/0gcmsrc</td>\n",
       "      <td>NaN</td>\n",
       "      <td>/m/07p1ck</td>\n",
       "    </tr>\n",
       "    <tr>\n",
       "      <th>6667989</th>\n",
       "      <td>/m/0ggp41</td>\n",
       "      <td>1960-09-22</td>\n",
       "      <td>Khalillah</td>\n",
       "      <td>1989-05-05</td>\n",
       "      <td>F</td>\n",
       "      <td>1.6</td>\n",
       "      <td>NaN</td>\n",
       "      <td>Larissa Wilson</td>\n",
       "      <td>-28.0</td>\n",
       "      <td>/m/063lmhz</td>\n",
       "      <td>/m/063lmj0</td>\n",
       "      <td>/m/02pv8ss</td>\n",
       "    </tr>\n",
       "  </tbody>\n",
       "</table>\n",
       "</div>"
      ],
      "text/plain": [
       "        freebase_id     release   character_name   actor_dob actor_gender  \\\n",
       "wiki_id                                                                     \n",
       "22829      /m/05q8n  1965-06-01  The Black Ghoul  1978-07-18            F   \n",
       "4210812   /m/0bq4vz  1910-03-24           Glinda  1992-02-17            M   \n",
       "5626726   /m/0dx12p  1936-02-14              NaN  1944-12-09            M   \n",
       "7735007   /m/0kvg60        1966              NaN  1996-08-14            M   \n",
       "6667989   /m/0ggp41  1960-09-22        Khalillah  1989-05-05            F   \n",
       "\n",
       "         actor_height actor_ethnicity       actor_name  actor_age  \\\n",
       "wiki_id                                                             \n",
       "22829             NaN       /m/03ts0c  Cheyenne Silver      -13.0   \n",
       "4210812           NaN             NaN        Olive Cox      -81.0   \n",
       "5626726           NaN             NaN     Bob O'Connor       -8.0   \n",
       "7735007           NaN             NaN    Jack Fletcher      -30.0   \n",
       "6667989           1.6             NaN   Larissa Wilson      -28.0   \n",
       "\n",
       "        freebase_chara_map1 freebase_chara_map2 freebase_chara_map3  \n",
       "wiki_id                                                              \n",
       "22829            /m/0cbwtz8          /m/0cbwtzc           /m/06616j  \n",
       "4210812          /m/09z696c           /m/022qn6          /m/09z696h  \n",
       "5626726           /m/0k4k1m                 NaN           /m/064_gh  \n",
       "7735007          /m/0gcmsrc                 NaN           /m/07p1ck  \n",
       "6667989          /m/063lmhz          /m/063lmj0          /m/02pv8ss  "
      ]
     },
     "execution_count": 67,
     "metadata": {},
     "output_type": "execute_result"
    }
   ],
   "source": [
    "#Look at outliers in actor age\n",
    "print(\"Number of errors in actors age :\",len(charadata_intersect[charadata_intersect['actor_age']<0]))\n",
    "charadata_intersect[charadata_intersect['actor_age']<0].head()"
   ]
  },
  {
   "cell_type": "markdown",
   "metadata": {},
   "source": [
    "We can see that these impossible values come from mistakes in the actor date of birth, so we won't correcti it for only 225 caracters."
   ]
  },
  {
   "cell_type": "code",
   "execution_count": 68,
   "metadata": {},
   "outputs": [
    {
     "data": {
      "text/html": [
       "<div>\n",
       "<style scoped>\n",
       "    .dataframe tbody tr th:only-of-type {\n",
       "        vertical-align: middle;\n",
       "    }\n",
       "\n",
       "    .dataframe tbody tr th {\n",
       "        vertical-align: top;\n",
       "    }\n",
       "\n",
       "    .dataframe thead th {\n",
       "        text-align: right;\n",
       "    }\n",
       "</style>\n",
       "<table border=\"1\" class=\"dataframe\">\n",
       "  <thead>\n",
       "    <tr style=\"text-align: right;\">\n",
       "      <th></th>\n",
       "      <th>freebase_id</th>\n",
       "      <th>movie_name</th>\n",
       "      <th>release</th>\n",
       "      <th>revenue</th>\n",
       "      <th>runtime</th>\n",
       "      <th>languages</th>\n",
       "      <th>countries</th>\n",
       "      <th>genres</th>\n",
       "    </tr>\n",
       "    <tr>\n",
       "      <th>wiki_id</th>\n",
       "      <th></th>\n",
       "      <th></th>\n",
       "      <th></th>\n",
       "      <th></th>\n",
       "      <th></th>\n",
       "      <th></th>\n",
       "      <th></th>\n",
       "      <th></th>\n",
       "    </tr>\n",
       "  </thead>\n",
       "  <tbody>\n",
       "    <tr>\n",
       "      <th>23890098</th>\n",
       "      <td>/m/076w2lb</td>\n",
       "      <td>Taxi Blues</td>\n",
       "      <td>1990-09-07</td>\n",
       "      <td>NaN</td>\n",
       "      <td>110.0</td>\n",
       "      <td>{\"/m/06b_j\": \"Russian Language\"}</td>\n",
       "      <td>{\"/m/0f8l9c\": \"France\", \"/m/05vz3zq\": \"Soviet ...</td>\n",
       "      <td>{\"/m/07s9rl0\": \"Drama\", \"/m/03q4nz\": \"World ci...</td>\n",
       "    </tr>\n",
       "    <tr>\n",
       "      <th>31186339</th>\n",
       "      <td>/m/0gkz15s</td>\n",
       "      <td>The Hunger Games</td>\n",
       "      <td>2012-03-12</td>\n",
       "      <td>686533290.0</td>\n",
       "      <td>142.0</td>\n",
       "      <td>{\"/m/02h40lc\": \"English Language\"}</td>\n",
       "      <td>{\"/m/09c7w0\": \"United States of America\"}</td>\n",
       "      <td>{\"/m/03btsm8\": \"Action/Adventure\", \"/m/06n90\":...</td>\n",
       "    </tr>\n",
       "    <tr>\n",
       "      <th>20663735</th>\n",
       "      <td>/m/051zjwb</td>\n",
       "      <td>Narasimham</td>\n",
       "      <td>2000</td>\n",
       "      <td>NaN</td>\n",
       "      <td>175.0</td>\n",
       "      <td>{\"/m/0999q\": \"Malayalam Language\"}</td>\n",
       "      <td>{\"/m/03rk0\": \"India\"}</td>\n",
       "      <td>{\"/m/04t36\": \"Musical\", \"/m/02kdv5l\": \"Action\"...</td>\n",
       "    </tr>\n",
       "    <tr>\n",
       "      <th>2231378</th>\n",
       "      <td>/m/06xtz3</td>\n",
       "      <td>The Lemon Drop Kid</td>\n",
       "      <td>1951-03-08</td>\n",
       "      <td>2300000.0</td>\n",
       "      <td>91.0</td>\n",
       "      <td>{\"/m/02h40lc\": \"English Language\"}</td>\n",
       "      <td>{\"/m/09c7w0\": \"United States of America\"}</td>\n",
       "      <td>{\"/m/06qm3\": \"Screwball comedy\", \"/m/01z4y\": \"...</td>\n",
       "    </tr>\n",
       "    <tr>\n",
       "      <th>595909</th>\n",
       "      <td>/m/02tqm5</td>\n",
       "      <td>A Cry in the Dark</td>\n",
       "      <td>1988-11-03</td>\n",
       "      <td>6908797.0</td>\n",
       "      <td>121.0</td>\n",
       "      <td>{\"/m/02h40lc\": \"English Language\"}</td>\n",
       "      <td>{\"/m/09c7w0\": \"United States of America\", \"/m/...</td>\n",
       "      <td>{\"/m/0lsxr\": \"Crime Fiction\", \"/m/07s9rl0\": \"D...</td>\n",
       "    </tr>\n",
       "  </tbody>\n",
       "</table>\n",
       "</div>"
      ],
      "text/plain": [
       "         freebase_id          movie_name     release      revenue  runtime  \\\n",
       "wiki_id                                                                      \n",
       "23890098  /m/076w2lb          Taxi Blues  1990-09-07          NaN    110.0   \n",
       "31186339  /m/0gkz15s    The Hunger Games  2012-03-12  686533290.0    142.0   \n",
       "20663735  /m/051zjwb          Narasimham        2000          NaN    175.0   \n",
       "2231378    /m/06xtz3  The Lemon Drop Kid  1951-03-08    2300000.0     91.0   \n",
       "595909     /m/02tqm5   A Cry in the Dark  1988-11-03    6908797.0    121.0   \n",
       "\n",
       "                                   languages  \\\n",
       "wiki_id                                        \n",
       "23890098    {\"/m/06b_j\": \"Russian Language\"}   \n",
       "31186339  {\"/m/02h40lc\": \"English Language\"}   \n",
       "20663735  {\"/m/0999q\": \"Malayalam Language\"}   \n",
       "2231378   {\"/m/02h40lc\": \"English Language\"}   \n",
       "595909    {\"/m/02h40lc\": \"English Language\"}   \n",
       "\n",
       "                                                  countries  \\\n",
       "wiki_id                                                       \n",
       "23890098  {\"/m/0f8l9c\": \"France\", \"/m/05vz3zq\": \"Soviet ...   \n",
       "31186339          {\"/m/09c7w0\": \"United States of America\"}   \n",
       "20663735                              {\"/m/03rk0\": \"India\"}   \n",
       "2231378           {\"/m/09c7w0\": \"United States of America\"}   \n",
       "595909    {\"/m/09c7w0\": \"United States of America\", \"/m/...   \n",
       "\n",
       "                                                     genres  \n",
       "wiki_id                                                      \n",
       "23890098  {\"/m/07s9rl0\": \"Drama\", \"/m/03q4nz\": \"World ci...  \n",
       "31186339  {\"/m/03btsm8\": \"Action/Adventure\", \"/m/06n90\":...  \n",
       "20663735  {\"/m/04t36\": \"Musical\", \"/m/02kdv5l\": \"Action\"...  \n",
       "2231378   {\"/m/06qm3\": \"Screwball comedy\", \"/m/01z4y\": \"...  \n",
       "595909    {\"/m/0lsxr\": \"Crime Fiction\", \"/m/07s9rl0\": \"D...  "
      ]
     },
     "execution_count": 68,
     "metadata": {},
     "output_type": "execute_result"
    }
   ],
   "source": [
    "moviedata_intersect.head()"
   ]
  },
  {
   "cell_type": "code",
   "execution_count": 69,
   "metadata": {},
   "outputs": [
    {
     "data": {
      "text/html": [
       "<div>\n",
       "<style scoped>\n",
       "    .dataframe tbody tr th:only-of-type {\n",
       "        vertical-align: middle;\n",
       "    }\n",
       "\n",
       "    .dataframe tbody tr th {\n",
       "        vertical-align: top;\n",
       "    }\n",
       "\n",
       "    .dataframe thead th {\n",
       "        text-align: right;\n",
       "    }\n",
       "</style>\n",
       "<table border=\"1\" class=\"dataframe\">\n",
       "  <thead>\n",
       "    <tr style=\"text-align: right;\">\n",
       "      <th></th>\n",
       "      <th>plot</th>\n",
       "    </tr>\n",
       "    <tr>\n",
       "      <th>wiki_id</th>\n",
       "      <th></th>\n",
       "    </tr>\n",
       "  </thead>\n",
       "  <tbody>\n",
       "    <tr>\n",
       "      <th>23890098</th>\n",
       "      <td>Shlykov, a hard-working taxi driver and Lyosha...</td>\n",
       "    </tr>\n",
       "    <tr>\n",
       "      <th>31186339</th>\n",
       "      <td>The nation of Panem consists of a wealthy Capi...</td>\n",
       "    </tr>\n",
       "    <tr>\n",
       "      <th>20663735</th>\n",
       "      <td>Poovalli Induchoodan  is sentenced for six yea...</td>\n",
       "    </tr>\n",
       "    <tr>\n",
       "      <th>2231378</th>\n",
       "      <td>The Lemon Drop Kid , a New York City swindler,...</td>\n",
       "    </tr>\n",
       "    <tr>\n",
       "      <th>595909</th>\n",
       "      <td>Seventh-day Adventist Church pastor Michael Ch...</td>\n",
       "    </tr>\n",
       "  </tbody>\n",
       "</table>\n",
       "</div>"
      ],
      "text/plain": [
       "                                                       plot\n",
       "wiki_id                                                    \n",
       "23890098  Shlykov, a hard-working taxi driver and Lyosha...\n",
       "31186339  The nation of Panem consists of a wealthy Capi...\n",
       "20663735  Poovalli Induchoodan  is sentenced for six yea...\n",
       "2231378   The Lemon Drop Kid , a New York City swindler,...\n",
       "595909    Seventh-day Adventist Church pastor Michael Ch..."
      ]
     },
     "execution_count": 69,
     "metadata": {},
     "output_type": "execute_result"
    }
   ],
   "source": [
    "plots_intersect.head()"
   ]
  },
  {
   "cell_type": "markdown",
   "metadata": {},
   "source": [
    "#### Filtering and segmentation of data"
   ]
  },
  {
   "cell_type": "markdown",
   "metadata": {},
   "source": [
    "Here we remove all columns that will not be useful for the further analysis. In addition, we remove all characters with missing values in release date and/or gender as we want to study women's representation over time. Finally, we create a column which correspond to the decade in which the movie was released. Grouping movies by decade allows a fine temporal evolution with an increased amount of data to perform the analysis. We devide the dataset by decade as it seems to us that in such a period, the lifestyle remains constant. Indeed, we can asumme that the purchasing power, population, movie habits and genre popularity remained stable.   "
   ]
  },
  {
   "cell_type": "code",
   "execution_count": 70,
   "metadata": {},
   "outputs": [],
   "source": [
    "#For each character, drop columns which have no use for our analysis and add column for decade distinction\n",
    "charadata_filtered = charadata_intersect.drop(['freebase_id','actor_dob', 'actor_height', 'actor_ethnicity', 'freebase_chara_map1','freebase_chara_map2','freebase_chara_map3'], axis = 1)\n",
    "charadata_filtered['release'] = pd.to_datetime(charadata_filtered['release'], errors = 'coerce')\n",
    "charadata_filtered['release'] = pd.DatetimeIndex(charadata_filtered['release']).year\n",
    "charadata_filtered = charadata_filtered[charadata_filtered['release'].notna()]\n",
    "charadata_filtered['release'] = charadata_filtered['release'].astype(int)\n",
    "charadata_filtered['decade'] = (charadata_filtered['release']//10)*10\n",
    "\n",
    "\n",
    "charadata_filtered = charadata_filtered[charadata_filtered['actor_gender'].notna()] #drop characters who do not have a gender\n",
    "charadata_filtered = charadata_filtered[charadata_filtered['actor_age']>=0] #remove characters with odd ages values\n",
    "\n",
    "#For each movie, drop columns which have no use for our analysis indicate its decade of release and the year in the decade (ie. 0,1,2,3,4,5,6,7,8,9)\n",
    "moviedata_filtered = moviedata_intersect.drop(['freebase_id','revenue','runtime','languages'], axis = 1)\n",
    "moviedata_filtered['release'] = pd.to_datetime(moviedata_filtered['release'], errors = 'coerce')\n",
    "moviedata_filtered['release'] = pd.DatetimeIndex(moviedata_filtered['release']).year\n",
    "moviedata_filtered = moviedata_filtered[moviedata_filtered['release'].notna()]\n",
    "moviedata_filtered['release'] = moviedata_filtered['release'].astype(int)\n",
    "moviedata_filtered['decade'] = (moviedata_filtered['release']//10)*10\n",
    "moviedata_filtered['year'] = moviedata_filtered['release']%10\n",
    "\n",
    "#Remove the genre ID (e.g. /m/07s9rl0)to get only the string of the genres to allow analysis\n",
    "moviedata_filtered['genres'] = moviedata_filtered['genres'].apply(lambda x : x.replace(':', ','))\n",
    "moviedata_filtered['genres'] = moviedata_filtered['genres'].apply(eval)\n",
    "moviedata_filtered['genres'] = moviedata_filtered['genres'].apply(lambda x: list(x))\n",
    "moviedata_filtered['genres'] = moviedata_filtered['genres'].apply(lambda y: list(filter(lambda x: not x.startswith('/m'), y)))\n",
    "#do the same for the countries names\n",
    "moviedata_filtered['countries'] = moviedata_filtered['countries'].apply(lambda x : x.replace(':', ','))\n",
    "moviedata_filtered['countries'] = moviedata_filtered['countries'].apply(eval)\n",
    "moviedata_filtered['countries'] = moviedata_filtered['countries'].apply(lambda x: list(x))\n",
    "moviedata_filtered['countries'] = moviedata_filtered['countries'].apply(lambda y: list(filter(lambda x: not x.startswith('/m'), y)))\n",
    "\n",
    "#Keep only the overlap of the three datasets to obtain only movies which have a list of characters and a plot summary after the filter\n",
    "indexes_filtered = moviedata_filtered.index.intersection(charadata_filtered.index)\n",
    "indexes_filtered = plots.index.intersection(indexes_filtered)\n",
    "\n",
    "moviedata_filtered = moviedata_filtered.loc[indexes_filtered]\n",
    "charadata_filtered = charadata_filtered.loc[indexes_filtered]\n",
    "plots_filtered = plots_intersect.loc[indexes_filtered]"
   ]
  },
  {
   "cell_type": "code",
   "execution_count": 71,
   "metadata": {},
   "outputs": [
    {
     "data": {
      "text/html": [
       "<div>\n",
       "<style scoped>\n",
       "    .dataframe tbody tr th:only-of-type {\n",
       "        vertical-align: middle;\n",
       "    }\n",
       "\n",
       "    .dataframe tbody tr th {\n",
       "        vertical-align: top;\n",
       "    }\n",
       "\n",
       "    .dataframe thead th {\n",
       "        text-align: right;\n",
       "    }\n",
       "</style>\n",
       "<table border=\"1\" class=\"dataframe\">\n",
       "  <thead>\n",
       "    <tr style=\"text-align: right;\">\n",
       "      <th></th>\n",
       "      <th>movie_name</th>\n",
       "      <th>release</th>\n",
       "      <th>countries</th>\n",
       "      <th>genres</th>\n",
       "      <th>decade</th>\n",
       "      <th>year</th>\n",
       "    </tr>\n",
       "    <tr>\n",
       "      <th>wiki_id</th>\n",
       "      <th></th>\n",
       "      <th></th>\n",
       "      <th></th>\n",
       "      <th></th>\n",
       "      <th></th>\n",
       "      <th></th>\n",
       "    </tr>\n",
       "  </thead>\n",
       "  <tbody>\n",
       "    <tr>\n",
       "      <th>23890098</th>\n",
       "      <td>Taxi Blues</td>\n",
       "      <td>1990</td>\n",
       "      <td>[France, Russia, Soviet Union]</td>\n",
       "      <td>[World cinema, Drama]</td>\n",
       "      <td>1990</td>\n",
       "      <td>0</td>\n",
       "    </tr>\n",
       "    <tr>\n",
       "      <th>31186339</th>\n",
       "      <td>The Hunger Games</td>\n",
       "      <td>2012</td>\n",
       "      <td>[United States of America]</td>\n",
       "      <td>[Action/Adventure, Action, Drama, Science Fict...</td>\n",
       "      <td>2010</td>\n",
       "      <td>2</td>\n",
       "    </tr>\n",
       "    <tr>\n",
       "      <th>20663735</th>\n",
       "      <td>Narasimham</td>\n",
       "      <td>2000</td>\n",
       "      <td>[India]</td>\n",
       "      <td>[Action, Musical, Drama, Bollywood]</td>\n",
       "      <td>2000</td>\n",
       "      <td>0</td>\n",
       "    </tr>\n",
       "    <tr>\n",
       "      <th>2231378</th>\n",
       "      <td>The Lemon Drop Kid</td>\n",
       "      <td>1951</td>\n",
       "      <td>[United States of America]</td>\n",
       "      <td>[Comedy, Screwball comedy]</td>\n",
       "      <td>1950</td>\n",
       "      <td>1</td>\n",
       "    </tr>\n",
       "    <tr>\n",
       "      <th>595909</th>\n",
       "      <td>A Cry in the Dark</td>\n",
       "      <td>1988</td>\n",
       "      <td>[United States of America, Australia, New Zeal...</td>\n",
       "      <td>[Docudrama, Crime Fiction, Courtroom Drama, Wo...</td>\n",
       "      <td>1980</td>\n",
       "      <td>8</td>\n",
       "    </tr>\n",
       "  </tbody>\n",
       "</table>\n",
       "</div>"
      ],
      "text/plain": [
       "                  movie_name  release  \\\n",
       "wiki_id                                 \n",
       "23890098          Taxi Blues     1990   \n",
       "31186339    The Hunger Games     2012   \n",
       "20663735          Narasimham     2000   \n",
       "2231378   The Lemon Drop Kid     1951   \n",
       "595909     A Cry in the Dark     1988   \n",
       "\n",
       "                                                  countries  \\\n",
       "wiki_id                                                       \n",
       "23890098                     [France, Russia, Soviet Union]   \n",
       "31186339                         [United States of America]   \n",
       "20663735                                            [India]   \n",
       "2231378                          [United States of America]   \n",
       "595909    [United States of America, Australia, New Zeal...   \n",
       "\n",
       "                                                     genres  decade  year  \n",
       "wiki_id                                                                    \n",
       "23890098                              [World cinema, Drama]    1990     0  \n",
       "31186339  [Action/Adventure, Action, Drama, Science Fict...    2010     2  \n",
       "20663735                [Action, Musical, Drama, Bollywood]    2000     0  \n",
       "2231378                          [Comedy, Screwball comedy]    1950     1  \n",
       "595909    [Docudrama, Crime Fiction, Courtroom Drama, Wo...    1980     8  "
      ]
     },
     "execution_count": 71,
     "metadata": {},
     "output_type": "execute_result"
    }
   ],
   "source": [
    "moviedata_filtered.head()"
   ]
  },
  {
   "cell_type": "code",
   "execution_count": 72,
   "metadata": {},
   "outputs": [
    {
     "data": {
      "text/plain": [
       "movie_name    0\n",
       "release       0\n",
       "countries     0\n",
       "genres        0\n",
       "decade        0\n",
       "year          0\n",
       "dtype: int64"
      ]
     },
     "execution_count": 72,
     "metadata": {},
     "output_type": "execute_result"
    }
   ],
   "source": [
    "#We look at the missing information for the remainings movies in the movie metadata\n",
    "moviedata_filtered.isna().sum()"
   ]
  },
  {
   "cell_type": "markdown",
   "metadata": {},
   "source": [
    "#### Visualization"
   ]
  },
  {
   "cell_type": "code",
   "execution_count": 73,
   "metadata": {},
   "outputs": [
    {
     "name": "stdout",
     "output_type": "stream",
     "text": [
      "139691 71526 0.6613624850272468 0.33863751497275313\n"
     ]
    }
   ],
   "source": [
    "#Assess women's presence accross all charaters from every movies\n",
    "M_count = charadata_filtered[charadata_filtered.actor_gender == 'M'].shape[0]\n",
    "F_count = charadata_filtered[charadata_filtered.actor_gender == 'F'].shape[0]\n",
    "defined_gender_count = charadata_filtered.shape[0]\n",
    "\n",
    "M_proportion = M_count / defined_gender_count\n",
    "F_proportion = F_count / defined_gender_count\n",
    "\n",
    "print(M_count, F_count, M_proportion, F_proportion)"
   ]
  },
  {
   "cell_type": "markdown",
   "metadata": {},
   "source": [
    "# PRINT"
   ]
  },
  {
   "cell_type": "code",
   "execution_count": 74,
   "metadata": {},
   "outputs": [
    {
     "data": {
      "image/png": "[encoded data removed]",
      "text/plain": [
       "<Figure size 640x480 with 1 Axes>"
      ]
     },
     "metadata": {},
     "output_type": "display_data"
    }
   ],
   "source": [
    "plt.pie([M_proportion, F_proportion], labels = [\"Male\", \"Female\"], startangle = 90, autopct = \"%0.1f%%\")\n",
    "plt.title(\"Proportions of the different genders for the characters across all movies\")\n",
    "plt.show()"
   ]
  },
  {
   "cell_type": "code",
   "execution_count": 75,
   "metadata": {},
   "outputs": [
    {
     "data": {
      "text/html": [
       "<div>\n",
       "<style scoped>\n",
       "    .dataframe tbody tr th:only-of-type {\n",
       "        vertical-align: middle;\n",
       "    }\n",
       "\n",
       "    .dataframe tbody tr th {\n",
       "        vertical-align: top;\n",
       "    }\n",
       "\n",
       "    .dataframe thead th {\n",
       "        text-align: right;\n",
       "    }\n",
       "</style>\n",
       "<table border=\"1\" class=\"dataframe\">\n",
       "  <thead>\n",
       "    <tr style=\"text-align: right;\">\n",
       "      <th></th>\n",
       "      <th>nb_male</th>\n",
       "      <th>nb_female</th>\n",
       "      <th>M_proportion</th>\n",
       "      <th>F_proportion</th>\n",
       "    </tr>\n",
       "    <tr>\n",
       "      <th>wiki_id</th>\n",
       "      <th></th>\n",
       "      <th></th>\n",
       "      <th></th>\n",
       "      <th></th>\n",
       "    </tr>\n",
       "  </thead>\n",
       "  <tbody>\n",
       "    <tr>\n",
       "      <th>330</th>\n",
       "      <td>0</td>\n",
       "      <td>4</td>\n",
       "      <td>0.000000</td>\n",
       "      <td>1.000000</td>\n",
       "    </tr>\n",
       "    <tr>\n",
       "      <th>3217</th>\n",
       "      <td>9</td>\n",
       "      <td>3</td>\n",
       "      <td>0.750000</td>\n",
       "      <td>0.250000</td>\n",
       "    </tr>\n",
       "    <tr>\n",
       "      <th>3333</th>\n",
       "      <td>0</td>\n",
       "      <td>1</td>\n",
       "      <td>0.000000</td>\n",
       "      <td>1.000000</td>\n",
       "    </tr>\n",
       "    <tr>\n",
       "      <th>3746</th>\n",
       "      <td>10</td>\n",
       "      <td>3</td>\n",
       "      <td>0.769231</td>\n",
       "      <td>0.230769</td>\n",
       "    </tr>\n",
       "    <tr>\n",
       "      <th>3837</th>\n",
       "      <td>18</td>\n",
       "      <td>2</td>\n",
       "      <td>0.900000</td>\n",
       "      <td>0.100000</td>\n",
       "    </tr>\n",
       "  </tbody>\n",
       "</table>\n",
       "</div>"
      ],
      "text/plain": [
       "         nb_male  nb_female  M_proportion  F_proportion\n",
       "wiki_id                                                \n",
       "330            0          4      0.000000      1.000000\n",
       "3217           9          3      0.750000      0.250000\n",
       "3333           0          1      0.000000      1.000000\n",
       "3746          10          3      0.769231      0.230769\n",
       "3837          18          2      0.900000      0.100000"
      ]
     },
     "execution_count": 75,
     "metadata": {},
     "output_type": "execute_result"
    }
   ],
   "source": [
    "#Assess average women's presence per movie \n",
    "gender_count_permovie = charadata_filtered.groupby('wiki_id').apply(lambda x : pd.Series({'nb_male' : x[x.actor_gender == 'M'].shape[0], \n",
    "                                                                                       'nb_female' : x[x.actor_gender == 'F'].shape[0]}))\n",
    "                                                                                       \n",
    "#Compute proportions of each gender per movie\n",
    "gender_count_permovie['M_proportion'] = gender_count_permovie.nb_male / (gender_count_permovie.nb_male + gender_count_permovie.nb_female)\n",
    "gender_count_permovie['F_proportion'] = gender_count_permovie.nb_female / (gender_count_permovie.nb_male + gender_count_permovie.nb_female)\n",
    "\n",
    "gender_count_permovie.head()"
   ]
  },
  {
   "cell_type": "code",
   "execution_count": 76,
   "metadata": {},
   "outputs": [
    {
     "data": {
      "image/png": "[encoded data removed]",
      "text/plain": [
       "<Figure size 640x480 with 1 Axes>"
      ]
     },
     "metadata": {},
     "output_type": "display_data"
    }
   ],
   "source": [
    "plt.hist(gender_count_permovie.M_proportion, bins = 20, cumulative = True, histtype = 'step',label='Male')\n",
    "plt.hist(gender_count_permovie.F_proportion, bins = 20, cumulative = True, histtype = 'step',label='Female')\n",
    "plt.xlim(-0.01,1)\n",
    "plt.xticks(np.arange(0,1.1,0.1))\n",
    "plt.title(\"Cumulative histogram\\n Number of movies with proportions of male and female characters inferior to x\")\n",
    "plt.xlabel('x')\n",
    "plt.ylabel('Number of movies')\n",
    "plt.legend(loc='lower right')\n",
    "plt.show()"
   ]
  },
  {
   "cell_type": "markdown",
   "metadata": {},
   "source": [
    "# TEXTE EXPLICATIF RESULTAT GRAPHE AU DESSUS"
   ]
  },
  {
   "cell_type": "code",
   "execution_count": 77,
   "metadata": {},
   "outputs": [
    {
     "name": "stdout",
     "output_type": "stream",
     "text": [
      "23028 5692 4632\n"
     ]
    }
   ],
   "source": [
    "max_M = 0\n",
    "max_F = 0\n",
    "equal_MF = 0\n",
    "for i in range(gender_count_permovie.shape[0]) :\n",
    "    if (gender_count_permovie.iloc[i]['nb_male'] > gender_count_permovie.iloc[i]['nb_female']) :\n",
    "        max_M += 1\n",
    "    elif (gender_count_permovie.iloc[i]['nb_male'] < gender_count_permovie.iloc[i]['nb_female']) : \n",
    "        max_F += 1\n",
    "    elif (gender_count_permovie.iloc[i]['nb_male'] == gender_count_permovie.iloc[i]['nb_female']) :\n",
    "        equal_MF += 1\n",
    "\n",
    "print(max_M,max_F,equal_MF)"
   ]
  },
  {
   "cell_type": "markdown",
   "metadata": {},
   "source": [
    "# PRINT"
   ]
  },
  {
   "cell_type": "code",
   "execution_count": 78,
   "metadata": {},
   "outputs": [
    {
     "data": {
      "image/png": "[encoded data removed]",
      "text/plain": [
       "<Figure size 640x480 with 1 Axes>"
      ]
     },
     "metadata": {},
     "output_type": "display_data"
    }
   ],
   "source": [
    "plt.pie([max_M,max_F,equal_MF], labels = [\"More males\", \"More females\", \"Equal number of male and female\"], startangle = 90, autopct = \"%0.1f%%\")\n",
    "plt.title(\"Number of movies with different number of males and females\")\n",
    "plt.show()"
   ]
  },
  {
   "cell_type": "code",
   "execution_count": 79,
   "metadata": {},
   "outputs": [
    {
     "data": {
      "text/html": [
       "<div>\n",
       "<style scoped>\n",
       "    .dataframe tbody tr th:only-of-type {\n",
       "        vertical-align: middle;\n",
       "    }\n",
       "\n",
       "    .dataframe tbody tr th {\n",
       "        vertical-align: top;\n",
       "    }\n",
       "\n",
       "    .dataframe thead th {\n",
       "        text-align: right;\n",
       "    }\n",
       "</style>\n",
       "<table border=\"1\" class=\"dataframe\">\n",
       "  <thead>\n",
       "    <tr style=\"text-align: right;\">\n",
       "      <th></th>\n",
       "      <th>release</th>\n",
       "      <th>character_name</th>\n",
       "      <th>actor_gender</th>\n",
       "      <th>actor_name</th>\n",
       "      <th>actor_age</th>\n",
       "      <th>decade</th>\n",
       "    </tr>\n",
       "    <tr>\n",
       "      <th>wiki_id</th>\n",
       "      <th></th>\n",
       "      <th></th>\n",
       "      <th></th>\n",
       "      <th></th>\n",
       "      <th></th>\n",
       "      <th></th>\n",
       "    </tr>\n",
       "  </thead>\n",
       "  <tbody>\n",
       "    <tr>\n",
       "      <th>23890098</th>\n",
       "      <td>1990</td>\n",
       "      <td>NaN</td>\n",
       "      <td>M</td>\n",
       "      <td>Pyotr Mamonov</td>\n",
       "      <td>39.0</td>\n",
       "      <td>1990</td>\n",
       "    </tr>\n",
       "    <tr>\n",
       "      <th>23890098</th>\n",
       "      <td>1990</td>\n",
       "      <td>NaN</td>\n",
       "      <td>M</td>\n",
       "      <td>Hal Singer</td>\n",
       "      <td>70.0</td>\n",
       "      <td>1990</td>\n",
       "    </tr>\n",
       "    <tr>\n",
       "      <th>31186339</th>\n",
       "      <td>2012</td>\n",
       "      <td>Katniss Everdeen</td>\n",
       "      <td>F</td>\n",
       "      <td>Jennifer Lawrence</td>\n",
       "      <td>21.0</td>\n",
       "      <td>2010</td>\n",
       "    </tr>\n",
       "    <tr>\n",
       "      <th>31186339</th>\n",
       "      <td>2012</td>\n",
       "      <td>Peeta Mellark</td>\n",
       "      <td>M</td>\n",
       "      <td>Josh Hutcherson</td>\n",
       "      <td>19.0</td>\n",
       "      <td>2010</td>\n",
       "    </tr>\n",
       "    <tr>\n",
       "      <th>31186339</th>\n",
       "      <td>2012</td>\n",
       "      <td>Effie Trinket</td>\n",
       "      <td>F</td>\n",
       "      <td>Elizabeth Banks</td>\n",
       "      <td>38.0</td>\n",
       "      <td>2010</td>\n",
       "    </tr>\n",
       "    <tr>\n",
       "      <th>...</th>\n",
       "      <td>...</td>\n",
       "      <td>...</td>\n",
       "      <td>...</td>\n",
       "      <td>...</td>\n",
       "      <td>...</td>\n",
       "      <td>...</td>\n",
       "    </tr>\n",
       "    <tr>\n",
       "      <th>6040782</th>\n",
       "      <td>1971</td>\n",
       "      <td>NaN</td>\n",
       "      <td>M</td>\n",
       "      <td>Arthur Lowe</td>\n",
       "      <td>55.0</td>\n",
       "      <td>1970</td>\n",
       "    </tr>\n",
       "    <tr>\n",
       "      <th>6040782</th>\n",
       "      <td>1971</td>\n",
       "      <td>NaN</td>\n",
       "      <td>M</td>\n",
       "      <td>John Le Mesurier</td>\n",
       "      <td>58.0</td>\n",
       "      <td>1970</td>\n",
       "    </tr>\n",
       "    <tr>\n",
       "      <th>6040782</th>\n",
       "      <td>1971</td>\n",
       "      <td>NaN</td>\n",
       "      <td>M</td>\n",
       "      <td>Clive Dunn</td>\n",
       "      <td>51.0</td>\n",
       "      <td>1970</td>\n",
       "    </tr>\n",
       "    <tr>\n",
       "      <th>6040782</th>\n",
       "      <td>1971</td>\n",
       "      <td>NaN</td>\n",
       "      <td>M</td>\n",
       "      <td>Ian Lavender</td>\n",
       "      <td>25.0</td>\n",
       "      <td>1970</td>\n",
       "    </tr>\n",
       "    <tr>\n",
       "      <th>6040782</th>\n",
       "      <td>1971</td>\n",
       "      <td>NaN</td>\n",
       "      <td>M</td>\n",
       "      <td>Bernard Archard</td>\n",
       "      <td>54.0</td>\n",
       "      <td>1970</td>\n",
       "    </tr>\n",
       "  </tbody>\n",
       "</table>\n",
       "<p>211217 rows × 6 columns</p>\n",
       "</div>"
      ],
      "text/plain": [
       "          release    character_name actor_gender         actor_name  \\\n",
       "wiki_id                                                               \n",
       "23890098     1990               NaN            M      Pyotr Mamonov   \n",
       "23890098     1990               NaN            M         Hal Singer   \n",
       "31186339     2012  Katniss Everdeen            F  Jennifer Lawrence   \n",
       "31186339     2012     Peeta Mellark            M    Josh Hutcherson   \n",
       "31186339     2012     Effie Trinket            F    Elizabeth Banks   \n",
       "...           ...               ...          ...                ...   \n",
       "6040782      1971               NaN            M        Arthur Lowe   \n",
       "6040782      1971               NaN            M   John Le Mesurier   \n",
       "6040782      1971               NaN            M         Clive Dunn   \n",
       "6040782      1971               NaN            M       Ian Lavender   \n",
       "6040782      1971               NaN            M    Bernard Archard   \n",
       "\n",
       "          actor_age  decade  \n",
       "wiki_id                      \n",
       "23890098       39.0    1990  \n",
       "23890098       70.0    1990  \n",
       "31186339       21.0    2010  \n",
       "31186339       19.0    2010  \n",
       "31186339       38.0    2010  \n",
       "...             ...     ...  \n",
       "6040782        55.0    1970  \n",
       "6040782        58.0    1970  \n",
       "6040782        51.0    1970  \n",
       "6040782        25.0    1970  \n",
       "6040782        54.0    1970  \n",
       "\n",
       "[211217 rows x 6 columns]"
      ]
     },
     "execution_count": 79,
     "metadata": {},
     "output_type": "execute_result"
    }
   ],
   "source": [
    "charadata_filtered"
   ]
  },
  {
   "cell_type": "markdown",
   "metadata": {},
   "source": [
    "Number of movies per actor/actress"
   ]
  },
  {
   "cell_type": "code",
   "execution_count": 80,
   "metadata": {},
   "outputs": [
    {
     "data": {
      "text/html": [
       "<div>\n",
       "<style scoped>\n",
       "    .dataframe tbody tr th:only-of-type {\n",
       "        vertical-align: middle;\n",
       "    }\n",
       "\n",
       "    .dataframe tbody tr th {\n",
       "        vertical-align: top;\n",
       "    }\n",
       "\n",
       "    .dataframe thead th {\n",
       "        text-align: right;\n",
       "    }\n",
       "</style>\n",
       "<table border=\"1\" class=\"dataframe\">\n",
       "  <thead>\n",
       "    <tr style=\"text-align: right;\">\n",
       "      <th></th>\n",
       "      <th>actor_gender</th>\n",
       "      <th>num_movies</th>\n",
       "    </tr>\n",
       "    <tr>\n",
       "      <th>actor_name</th>\n",
       "      <th></th>\n",
       "      <th></th>\n",
       "    </tr>\n",
       "  </thead>\n",
       "  <tbody>\n",
       "    <tr>\n",
       "      <th>'King Kong' Kashey</th>\n",
       "      <td>M</td>\n",
       "      <td>1</td>\n",
       "    </tr>\n",
       "    <tr>\n",
       "      <th>2 Tuff Tony</th>\n",
       "      <td>M</td>\n",
       "      <td>1</td>\n",
       "    </tr>\n",
       "    <tr>\n",
       "      <th>40 Glocc</th>\n",
       "      <td>M</td>\n",
       "      <td>1</td>\n",
       "    </tr>\n",
       "    <tr>\n",
       "      <th>50 Cent</th>\n",
       "      <td>M</td>\n",
       "      <td>15</td>\n",
       "    </tr>\n",
       "    <tr>\n",
       "      <th>A Martinez</th>\n",
       "      <td>M</td>\n",
       "      <td>8</td>\n",
       "    </tr>\n",
       "  </tbody>\n",
       "</table>\n",
       "</div>"
      ],
      "text/plain": [
       "                   actor_gender  num_movies\n",
       "actor_name                                 \n",
       "'King Kong' Kashey            M           1\n",
       "2 Tuff Tony                   M           1\n",
       "40 Glocc                      M           1\n",
       "50 Cent                       M          15\n",
       "A Martinez                    M           8"
      ]
     },
     "execution_count": 80,
     "metadata": {},
     "output_type": "execute_result"
    }
   ],
   "source": [
    "movies_count_peractor = charadata_filtered.groupby('actor_name').apply(lambda x : pd.Series({'actor_gender' : x['actor_gender'].unique()[0], \n",
    "                                                                                       'num_movies' : x.index.nunique()}))\n",
    "movies_count_peractor.head()"
   ]
  },
  {
   "cell_type": "markdown",
   "metadata": {},
   "source": [
    "# MANQUE EXPLICATION PK ON REGARDE çA "
   ]
  },
  {
   "cell_type": "code",
   "execution_count": 81,
   "metadata": {},
   "outputs": [
    {
     "name": "stdout",
     "output_type": "stream",
     "text": [
      "Median number of movies per male actor = 2.0 mean number of movies per male actor = 5.40801064954387 std = 9.64303182027481\n",
      "Median number of movies per female actor = 2.0 mean number of movies per female actor = 4.512440343620744 std = 6.576056233462031\n"
     ]
    }
   ],
   "source": [
    "mean_M = (movies_count_peractor[movies_count_peractor['actor_gender']=='M']['num_movies']).mean()\n",
    "mean_F = (movies_count_peractor[movies_count_peractor['actor_gender']=='F']['num_movies']).mean()\n",
    "median_M = (movies_count_peractor[movies_count_peractor['actor_gender']=='M']['num_movies']).median()\n",
    "median_F = (movies_count_peractor[movies_count_peractor['actor_gender']=='F']['num_movies']).median()\n",
    "std_M = (movies_count_peractor[movies_count_peractor['actor_gender']=='M']['num_movies']).std()\n",
    "std_F = (movies_count_peractor[movies_count_peractor['actor_gender']=='F']['num_movies']).std()\n",
    "print('Median number of movies per male actor =',median_M,'mean number of movies per male actor =',mean_M, 'std =',std_M)\n",
    "print('Median number of movies per female actor =',median_F,'mean number of movies per female actor =',mean_F, 'std =',std_F)"
   ]
  },
  {
   "cell_type": "markdown",
   "metadata": {},
   "source": [
    "# MANQUE EXPLICATION PK ON REGARDE çA "
   ]
  },
  {
   "cell_type": "code",
   "execution_count": 82,
   "metadata": {},
   "outputs": [
    {
     "data": {
      "image/png": "[encoded data removed]",
      "text/plain": [
       "<Figure size 640x480 with 1 Axes>"
      ]
     },
     "metadata": {},
     "output_type": "display_data"
    }
   ],
   "source": [
    "#Plot age distribution across gender\n",
    "\n",
    "df_wo_ol = charadata_filtered[charadata_filtered['actor_age']>=0]\n",
    "M = df_wo_ol[df_wo_ol['actor_gender']=='M']\n",
    "F = df_wo_ol[df_wo_ol['actor_gender']=='F']\n",
    "Mc = M['actor_age'].value_counts()\n",
    "Fc = F['actor_age'].value_counts()\n",
    "\n",
    "plt.bar(np.sort(Mc.index),Mc[np.sort(Mc.index)],alpha=0.5,label='Male')\n",
    "plt.bar(np.sort(Fc.index),Fc[np.sort(Fc.index)],alpha=0.5,label='Female')\n",
    "plt.title(\"Distribution of actor/actress ages\")\n",
    "plt.xlabel('Age [years]')\n",
    "plt.ylabel('Number of actors')\n",
    "plt.legend(loc='upper right')\n",
    "plt.show()"
   ]
  },
  {
   "cell_type": "markdown",
   "metadata": {},
   "source": [
    "Analysis across time"
   ]
  },
  {
   "cell_type": "code",
   "execution_count": 83,
   "metadata": {},
   "outputs": [
    {
     "data": {
      "text/plain": [
       "<AxesSubplot:xlabel='decade'>"
      ]
     },
     "execution_count": 83,
     "metadata": {},
     "output_type": "execute_result"
    },
    {
     "data": {
      "image/png": "[encoded data removed]",
      "text/plain": [
       "<Figure size 640x480 with 1 Axes>"
      ]
     },
     "metadata": {},
     "output_type": "display_data"
    }
   ],
   "source": [
    "#Look at gender distribution along time\n",
    "\n",
    "charadata_filtered.groupby(['decade', 'actor_gender'])['actor_gender'].count().unstack().plot.bar(stacked=True)"
   ]
  },
  {
   "cell_type": "markdown",
   "metadata": {},
   "source": [
    "# LABEL + LEGENDE "
   ]
  },
  {
   "cell_type": "code",
   "execution_count": 84,
   "metadata": {},
   "outputs": [
    {
     "data": {
      "image/png": "[encoded data removed]",
      "text/plain": [
       "<Figure size 640x480 with 1 Axes>"
      ]
     },
     "metadata": {},
     "output_type": "display_data"
    }
   ],
   "source": [
    "#Plot proportion of genders across time\n",
    "pd.DataFrame(\n",
    "    charadata_filtered.groupby(\n",
    "        ['decade', 'actor_gender'])['actor_gender'].count()/np.repeat(charadata_filtered.groupby(['decade']).size().values, 2)\n",
    "        ).unstack().plot.bar(stacked=True,title='Proportion of men and women in movies per decade', xlabel='Decade',ylabel='Proportion')\n",
    "\n",
    "plt.show()"
   ]
  },
  {
   "cell_type": "markdown",
   "metadata": {},
   "source": [
    "# PBLM AVEC LEGENDE"
   ]
  },
  {
   "cell_type": "code",
   "execution_count": 85,
   "metadata": {},
   "outputs": [],
   "source": [
    "#Count male and female characters per decade across all movies\n",
    "gender_count_perdecade = charadata_filtered.groupby('decade').apply(lambda x : pd.Series({'M' : x[x.actor_gender == 'M'].shape[0], \n",
    "                                                                                       'F' : x[x.actor_gender == 'F'].shape[0]}))\n",
    "gender_count_perdecade['F_M_Ratio'] = gender_count_perdecade.F / (gender_count_perdecade.M + gender_count_perdecade.F)"
   ]
  },
  {
   "cell_type": "code",
   "execution_count": 86,
   "metadata": {},
   "outputs": [
    {
     "data": {
      "image/png": "[encoded data removed]",
      "text/plain": [
       "<Figure size 640x480 with 1 Axes>"
      ]
     },
     "metadata": {},
     "output_type": "display_data"
    }
   ],
   "source": [
    "plt.plot(gender_count_perdecade.index[2:], gender_count_perdecade.F_M_Ratio[2:], ls = '-')\n",
    "plt.title(\"Ratio of female over all characters across all movies, per decade\")\n",
    "plt.show()"
   ]
  },
  {
   "cell_type": "markdown",
   "metadata": {},
   "source": [
    "# MANQUE LABEL"
   ]
  },
  {
   "cell_type": "code",
   "execution_count": 87,
   "metadata": {},
   "outputs": [
    {
     "data": {
      "image/png": "[encoded data removed]",
      "text/plain": [
       "<Figure size 640x480 with 1 Axes>"
      ]
     },
     "metadata": {},
     "output_type": "display_data"
    }
   ],
   "source": [
    "#Plot age distribution across gender\n",
    "\n",
    "df_wo_ol = charadata_filtered[charadata_filtered['actor_age']>=0]\n",
    "M = df_wo_ol[df_wo_ol['actor_gender']=='M']\n",
    "F = df_wo_ol[df_wo_ol['actor_gender']=='F']\n",
    "Mc = M['actor_age'].value_counts()\n",
    "Fc = F['actor_age'].value_counts()\n",
    "\n",
    "plt.bar(np.sort(Mc.index),Mc[np.sort(Mc.index)],alpha=0.5,label='Male')\n",
    "plt.bar(np.sort(Fc.index),Fc[np.sort(Fc.index)],alpha=0.5,label='Female')\n",
    "plt.title(\"Distribution of actor/actress ages\")\n",
    "plt.xlabel('Age [years]')\n",
    "plt.ylabel('Number of actors')\n",
    "plt.legend(loc='upper right')\n",
    "plt.show()"
   ]
  },
  {
   "cell_type": "markdown",
   "metadata": {},
   "source": [
    "# FAIRE ACROSS TIME"
   ]
  },
  {
   "cell_type": "markdown",
   "metadata": {},
   "source": [
    "#### ANALYSIS BY GENRE\n",
    "\n",
    "Following the observed trends and results previously obtained, we would like to know wether these apply to distinct genres within the film industry. Analysis accross genres allows to determine the most popular ones which implies a superior impact on the society. Repeating steps previously done such as age and proportion of male vs female characters over time for distinct genres would allow to highligths effects common to the whole industry. Due to the variety of genres in the dataset, it would be better to focus on a lesser extent of genres with a sufficient count for relevance and that are as distinct as possible to study similarity."
   ]
  },
  {
   "cell_type": "code",
   "execution_count": 88,
   "metadata": {},
   "outputs": [],
   "source": [
    "#input : takes a Series composed of lists of variavble sizes \n",
    "#output : a 1D Series with the lists placed end to end\n",
    "\n",
    "def to_1D(series):\n",
    "    return pd.Series([x for _list in series for x in _list])"
   ]
  },
  {
   "cell_type": "code",
   "execution_count": 89,
   "metadata": {},
   "outputs": [
    {
     "data": {
      "text/plain": [
       "Text(0, 0.5, 'Count')"
      ]
     },
     "execution_count": 89,
     "metadata": {},
     "output_type": "execute_result"
    },
    {
     "data": {
      "image/png": "[encoded data removed]",
      "text/plain": [
       "<Figure size 640x480 with 1 Axes>"
      ]
     },
     "metadata": {},
     "output_type": "display_data"
    }
   ],
   "source": [
    "#counts the number of movies tagged with each genre \n",
    "#Plot the genres that contain more than a thousand movies\n",
    "count_genres = to_1D(moviedata_filtered['genres']).value_counts()\n",
    "count_genres = count_genres[count_genres>1000] \n",
    "\n",
    "count_genres.plot(kind='bar')\n",
    "plt.title('Count of movies per genre')\n",
    "plt.xlabel('Movie genre')\n",
    "plt.ylabel('Count')"
   ]
  },
  {
   "cell_type": "markdown",
   "metadata": {},
   "source": [
    "We decided to keep the top 10 genres with the highest movie counts to have a sufficient effect size for our following analysis. We notice that the genre World cinema is in the top 10. We decide to remove this genre as it represents all non-american movies while our dataset contains a majority of movies coming from the United States."
   ]
  },
  {
   "cell_type": "code",
   "execution_count": 90,
   "metadata": {},
   "outputs": [],
   "source": [
    "selected = count_genres[:10].index #we take the 10 genres with the highest counts of movies\n",
    "selected = selected.drop(['World cinema']) \n",
    "identification_genre = moviedata_filtered[['genres']].copy() # temporary dataframe for genre identification for each movie"
   ]
  },
  {
   "cell_type": "code",
   "execution_count": 91,
   "metadata": {},
   "outputs": [],
   "source": [
    "# for each genre checks if the movie is part of a top 10 genre\n",
    "for i in selected:\n",
    "    identification_genre[str(i)] = identification_genre['genres'].apply(lambda x: 1 if i in x else 0) # for each genre chekcs if the movie is part of the genre"
   ]
  },
  {
   "cell_type": "markdown",
   "metadata": {},
   "source": [
    "From these top 10 genres, we want to find three genres that are independent and relevant in terms of effect size and unicity. This allows us to compare movies that belong to only one of the three different and independent genres to study if our following analysis shows the same results accross the film industry."
   ]
  },
  {
   "cell_type": "code",
   "execution_count": 92,
   "metadata": {},
   "outputs": [],
   "source": [
    "triplets = list((combinations(selected,3)))   # create all triplets possible for the selected genres\n",
    "count_per_genre = np.zeros((len(triplets), 3))  # count number of movies for each genre for each triplet \n",
    "count_unique_per_genre = np.zeros((len(triplets), 3)) # count number of movies for each genre for each triplet which are not shared by the other genres of the triplet\n",
    "\n",
    "for i, triplet in enumerate(triplets) :\n",
    "    for j, genre in enumerate(triplet) :\n",
    "        count_per_genre[i,j] = identification_genre.loc[:,genre].sum()  \n",
    "        others = list(triplet)\n",
    "        others.remove(genre)\n",
    "        count_unique_per_genre[i,j] = len(identification_genre[(identification_genre[genre] == 1) \\\n",
    "            & (identification_genre[others[0]] != 1)\\\n",
    "            & (identification_genre[others[1]] != 1)])"
   ]
  },
  {
   "cell_type": "code",
   "execution_count": 93,
   "metadata": {},
   "outputs": [],
   "source": [
    "#Criteria to select the genre triplet\n",
    "loss_genres = (count_per_genre - count_unique_per_genre) / count_per_genre  \n",
    "mean_loss = pd.Series(np.mean(loss_genres, axis=1), index = triplets) # mean per triplet of proportion of loss of number of shared movies    \n",
    "genre_loss_std = pd.Series(np.std(loss_genres, axis=1), index = triplets) # std of loss of counts of movies in each triplet \n",
    "mean_count = pd.Series(np.mean(count_unique_per_genre, axis=1), index = triplets) # mean of counts of movies per triplet"
   ]
  },
  {
   "cell_type": "code",
   "execution_count": 94,
   "metadata": {},
   "outputs": [
    {
     "data": {
      "application/vnd.plotly.v1+json": {
       "config": {
        "plotlyServerURL": "https://plot.ly"
       },
       "data": [
        {
         "hovertemplate": "<b>%{hovertext}</b><br><br>mean count loss=%{x}<br>std loss=%{y}<br>mean counts=%{marker.color}<extra></extra>",
         "hovertext": [
          [
           "Drama",
           "Comedy",
           "Romance Film"
          ],
          [
           "Drama",
           "Comedy",
           "Thriller"
          ],
          [
           "Drama",
           "Comedy",
           "Action"
          ],
          [
           "Drama",
           "Comedy",
           "Crime Fiction"
          ],
          [
           "Drama",
           "Comedy",
           "Action/Adventure"
          ],
          [
           "Drama",
           "Comedy",
           "Horror"
          ],
          [
           "Drama",
           "Comedy",
           "Indie"
          ],
          [
           "Drama",
           "Romance Film",
           "Thriller"
          ],
          [
           "Drama",
           "Romance Film",
           "Action"
          ],
          [
           "Drama",
           "Romance Film",
           "Crime Fiction"
          ],
          [
           "Drama",
           "Romance Film",
           "Action/Adventure"
          ],
          [
           "Drama",
           "Romance Film",
           "Horror"
          ],
          [
           "Drama",
           "Romance Film",
           "Indie"
          ],
          [
           "Drama",
           "Thriller",
           "Action"
          ],
          [
           "Drama",
           "Thriller",
           "Crime Fiction"
          ],
          [
           "Drama",
           "Thriller",
           "Action/Adventure"
          ],
          [
           "Drama",
           "Thriller",
           "Horror"
          ],
          [
           "Drama",
           "Thriller",
           "Indie"
          ],
          [
           "Drama",
           "Action",
           "Crime Fiction"
          ],
          [
           "Drama",
           "Action",
           "Action/Adventure"
          ],
          [
           "Drama",
           "Action",
           "Horror"
          ],
          [
           "Drama",
           "Action",
           "Indie"
          ],
          [
           "Drama",
           "Crime Fiction",
           "Action/Adventure"
          ],
          [
           "Drama",
           "Crime Fiction",
           "Horror"
          ],
          [
           "Drama",
           "Crime Fiction",
           "Indie"
          ],
          [
           "Drama",
           "Action/Adventure",
           "Horror"
          ],
          [
           "Drama",
           "Action/Adventure",
           "Indie"
          ],
          [
           "Drama",
           "Horror",
           "Indie"
          ],
          [
           "Comedy",
           "Romance Film",
           "Thriller"
          ],
          [
           "Comedy",
           "Romance Film",
           "Action"
          ],
          [
           "Comedy",
           "Romance Film",
           "Crime Fiction"
          ],
          [
           "Comedy",
           "Romance Film",
           "Action/Adventure"
          ],
          [
           "Comedy",
           "Romance Film",
           "Horror"
          ],
          [
           "Comedy",
           "Romance Film",
           "Indie"
          ],
          [
           "Comedy",
           "Thriller",
           "Action"
          ],
          [
           "Comedy",
           "Thriller",
           "Crime Fiction"
          ],
          [
           "Comedy",
           "Thriller",
           "Action/Adventure"
          ],
          [
           "Comedy",
           "Thriller",
           "Horror"
          ],
          [
           "Comedy",
           "Thriller",
           "Indie"
          ],
          [
           "Comedy",
           "Action",
           "Crime Fiction"
          ],
          [
           "Comedy",
           "Action",
           "Action/Adventure"
          ],
          [
           "Comedy",
           "Action",
           "Horror"
          ],
          [
           "Comedy",
           "Action",
           "Indie"
          ],
          [
           "Comedy",
           "Crime Fiction",
           "Action/Adventure"
          ],
          [
           "Comedy",
           "Crime Fiction",
           "Horror"
          ],
          [
           "Comedy",
           "Crime Fiction",
           "Indie"
          ],
          [
           "Comedy",
           "Action/Adventure",
           "Horror"
          ],
          [
           "Comedy",
           "Action/Adventure",
           "Indie"
          ],
          [
           "Comedy",
           "Horror",
           "Indie"
          ],
          [
           "Romance Film",
           "Thriller",
           "Action"
          ],
          [
           "Romance Film",
           "Thriller",
           "Crime Fiction"
          ],
          [
           "Romance Film",
           "Thriller",
           "Action/Adventure"
          ],
          [
           "Romance Film",
           "Thriller",
           "Horror"
          ],
          [
           "Romance Film",
           "Thriller",
           "Indie"
          ],
          [
           "Romance Film",
           "Action",
           "Crime Fiction"
          ],
          [
           "Romance Film",
           "Action",
           "Action/Adventure"
          ],
          [
           "Romance Film",
           "Action",
           "Horror"
          ],
          [
           "Romance Film",
           "Action",
           "Indie"
          ],
          [
           "Romance Film",
           "Crime Fiction",
           "Action/Adventure"
          ],
          [
           "Romance Film",
           "Crime Fiction",
           "Horror"
          ],
          [
           "Romance Film",
           "Crime Fiction",
           "Indie"
          ],
          [
           "Romance Film",
           "Action/Adventure",
           "Horror"
          ],
          [
           "Romance Film",
           "Action/Adventure",
           "Indie"
          ],
          [
           "Romance Film",
           "Horror",
           "Indie"
          ],
          [
           "Thriller",
           "Action",
           "Crime Fiction"
          ],
          [
           "Thriller",
           "Action",
           "Action/Adventure"
          ],
          [
           "Thriller",
           "Action",
           "Horror"
          ],
          [
           "Thriller",
           "Action",
           "Indie"
          ],
          [
           "Thriller",
           "Crime Fiction",
           "Action/Adventure"
          ],
          [
           "Thriller",
           "Crime Fiction",
           "Horror"
          ],
          [
           "Thriller",
           "Crime Fiction",
           "Indie"
          ],
          [
           "Thriller",
           "Action/Adventure",
           "Horror"
          ],
          [
           "Thriller",
           "Action/Adventure",
           "Indie"
          ],
          [
           "Thriller",
           "Horror",
           "Indie"
          ],
          [
           "Action",
           "Crime Fiction",
           "Action/Adventure"
          ],
          [
           "Action",
           "Crime Fiction",
           "Horror"
          ],
          [
           "Action",
           "Crime Fiction",
           "Indie"
          ],
          [
           "Action",
           "Action/Adventure",
           "Horror"
          ],
          [
           "Action",
           "Action/Adventure",
           "Indie"
          ],
          [
           "Action",
           "Horror",
           "Indie"
          ],
          [
           "Crime Fiction",
           "Action/Adventure",
           "Horror"
          ],
          [
           "Crime Fiction",
           "Action/Adventure",
           "Indie"
          ],
          [
           "Crime Fiction",
           "Horror",
           "Indie"
          ],
          [
           "Action/Adventure",
           "Horror",
           "Indie"
          ]
         ],
         "legendgroup": "",
         "marker": {
          "color": [
           5376,
           6521.333333333333,
           6570.333333333333,
           5978.666666666667,
           6504.333333333333,
           7146.666666666667,
           6114.666666666667,
           4883.666666666667,
           5137.333333333333,
           4368,
           5030,
           5501.333333333333,
           4510.666666666667,
           5452,
           5184.666666666667,
           5434,
           5859,
           5288.333333333333,
           5327.666666666667,
           5388.333333333333,
           6560.333333333333,
           5617,
           5213.666666666667,
           5828,
           4887,
           6470,
           5487.333333333333,
           5864.333333333333,
           4878.666666666667,
           4366.666666666667,
           4100,
           3996.6666666666665,
           4316,
           3609,
           4598.666666666667,
           4395,
           4485,
           4792,
           4576,
           4353.333333333333,
           3705.6666666666665,
           4799.666666666667,
           4190,
           4137.666666666667,
           4587,
           3839.6666666666665,
           4419.666666666667,
           3771.6666666666665,
           3947.6666666666665,
           3894.3333333333335,
           3589,
           3748.3333333333335,
           3987.3333333333335,
           3921.6666666666665,
           3721,
           2893.6666666666665,
           4335.666666666667,
           3837.3333333333335,
           3498,
           3992.3333333333335,
           3332.3333333333335,
           3929.3333333333335,
           3396.6666666666665,
           3432.6666666666665,
           2263.3333333333335,
           2175.3333333333335,
           2671,
           2951.6666666666665,
           2155.6666666666665,
           2289.6666666666665,
           2501.6666666666665,
           2459,
           2731.3333333333335,
           2835,
           1805.3333333333333,
           2974.3333333333335,
           2784.6666666666665,
           2124,
           2022.6666666666667,
           3284.3333333333335,
           2749.3333333333335,
           2501.3333333333335,
           2784.3333333333335,
           2790.6666666666665
          ],
          "coloraxis": "coloraxis",
          "symbol": "circle"
         },
         "mode": "markers",
         "name": "",
         "orientation": "v",
         "showlegend": false,
         "type": "scatter",
         "x": [
          0.5672232176769647,
          0.4059357187067037,
          0.4020530435841501,
          0.48158902679474025,
          0.3931468528882866,
          0.269048360989301,
          0.48723673441081355,
          0.5280650696952328,
          0.48964511718972065,
          0.5837105712675641,
          0.4651382237511505,
          0.3728373948847807,
          0.575159152328731,
          0.510490387751022,
          0.5470875656371492,
          0.49304308191299634,
          0.4083759590955672,
          0.49015080644777975,
          0.5109687604999579,
          0.5618345704364257,
          0.2618367615775707,
          0.43061029460422784,
          0.4865836276045539,
          0.3418497089940784,
          0.5205497846750015,
          0.23586747912286432,
          0.411258239543338,
          0.3529865056376516,
          0.30645114504265486,
          0.35568357642033943,
          0.3458227347437622,
          0.3503121346954288,
          0.27918696862757797,
          0.43056562113729663,
          0.3632349895773832,
          0.37704183545418135,
          0.3484734328013231,
          0.28008157781904347,
          0.3055885541065654,
          0.32949622853595534,
          0.4868839000124605,
          0.20352474615865968,
          0.317271328681634,
          0.29620011718579464,
          0.1758746849347698,
          0.3312519228703817,
          0.19564802232381454,
          0.3171332420795259,
          0.28689627458223926,
          0.3279597294434733,
          0.3472999295122876,
          0.3013667680507302,
          0.24389040979238952,
          0.24360693003964887,
          0.2806117376963438,
          0.468111795597521,
          0.11575311254338022,
          0.21191136981766734,
          0.2331391559193404,
          0.09602958170270082,
          0.23892216402026833,
          0.09058174727516687,
          0.19417513319733537,
          0.18730535629306047,
          0.5564666209053563,
          0.588848592575696,
          0.44211115731522205,
          0.35379721973934797,
          0.5156733165337898,
          0.4673707460847867,
          0.40487380294948,
          0.4206494917408499,
          0.33621448519249747,
          0.3143101023900838,
          0.569992854011478,
          0.275660423266904,
          0.3027755167531115,
          0.4633052414271199,
          0.45965577433445665,
          0.1620800870421022,
          0.221853203144984,
          0.26100020917986816,
          0.18114296591505166,
          0.14819704629044175
         ],
         "xaxis": "x",
         "y": [
          0.23107495879396117,
          0.08460469452428657,
          0.09688264987746528,
          0.2032605852695793,
          0.12394062881924194,
          0.06382588610176508,
          0.2435325496315888,
          0.12807540510639337,
          0.16188245363264048,
          0.14065627709441988,
          0.16789268735516172,
          0.23106576689706443,
          0.17024809417894227,
          0.19392095848253119,
          0.238101542589868,
          0.19798833600826596,
          0.18085881110742763,
          0.18032503724339863,
          0.24163531444979214,
          0.30583055728346864,
          0.11465398280705222,
          0.18688713872965998,
          0.2308080710889941,
          0.23702000974573814,
          0.19701463931499752,
          0.12834706359106696,
          0.19623924359269593,
          0.250518367052052,
          0.12244279416738536,
          0.07640224964074599,
          0.07130539392552668,
          0.055248262182245586,
          0.11042119445428121,
          0.06318225902695032,
          0.1630174003113276,
          0.21328290167176223,
          0.1979981170898031,
          0.14845787087779302,
          0.18151094760189024,
          0.12283021891784832,
          0.27057217102954967,
          0.04128781163100602,
          0.11177974504797988,
          0.1111773498642158,
          0.047520940691549746,
          0.13308056955386297,
          0.06772047919767159,
          0.10194748012083056,
          0.1462551170032775,
          0.14265618944332423,
          0.18567730085675738,
          0.15517904044600717,
          0.1235395968342279,
          0.10833385792700063,
          0.1206818339065336,
          0.2841536306164505,
          0.025555669960082388,
          0.07736222672291543,
          0.09582757048888234,
          0.033407941356676865,
          0.08270264010948611,
          0.03383175207463288,
          0.07224019872005409,
          0.09964654719431074,
          0.06338154694193093,
          0.17081884363422872,
          0.05226431424789959,
          0.08531999733439821,
          0.040726965384691484,
          0.06255883891963848,
          0.12301103652782615,
          0.02610031628556989,
          0.09575395020922063,
          0.07348598641772959,
          0.16821813437250238,
          0.09636148728115325,
          0.08957891323507673,
          0.26636486016057853,
          0.2657604750369865,
          0.03480303841217243,
          0.07829534566646895,
          0.04810630274678924,
          0.045382183690049364,
          0.020824685035865046
         ],
         "yaxis": "y"
        }
       ],
       "layout": {
        "coloraxis": {
         "colorbar": {
          "title": {
           "text": "mean counts"
          }
         },
         "colorscale": [
          [
           0,
           "#0d0887"
          ],
          [
           0.1111111111111111,
           "#46039f"
          ],
          [
           0.2222222222222222,
           "#7201a8"
          ],
          [
           0.3333333333333333,
           "#9c179e"
          ],
          [
           0.4444444444444444,
           "#bd3786"
          ],
          [
           0.5555555555555556,
           "#d8576b"
          ],
          [
           0.6666666666666666,
           "#ed7953"
          ],
          [
           0.7777777777777778,
           "#fb9f3a"
          ],
          [
           0.8888888888888888,
           "#fdca26"
          ],
          [
           1,
           "#f0f921"
          ]
         ]
        },
        "height": 750,
        "legend": {
         "tracegroupgap": 0
        },
        "template": {
         "data": {
          "bar": [
           {
            "error_x": {
             "color": "#2a3f5f"
            },
            "error_y": {
             "color": "#2a3f5f"
            },
            "marker": {
             "line": {
              "color": "#E5ECF6",
              "width": 0.5
             },
             "pattern": {
              "fillmode": "overlay",
              "size": 10,
              "solidity": 0.2
             }
            },
            "type": "bar"
           }
          ],
          "barpolar": [
           {
            "marker": {
             "line": {
              "color": "#E5ECF6",
              "width": 0.5
             },
             "pattern": {
              "fillmode": "overlay",
              "size": 10,
              "solidity": 0.2
             }
            },
            "type": "barpolar"
           }
          ],
          "carpet": [
           {
            "aaxis": {
             "endlinecolor": "#2a3f5f",
             "gridcolor": "white",
             "linecolor": "white",
             "minorgridcolor": "white",
             "startlinecolor": "#2a3f5f"
            },
            "baxis": {
             "endlinecolor": "#2a3f5f",
             "gridcolor": "white",
             "linecolor": "white",
             "minorgridcolor": "white",
             "startlinecolor": "#2a3f5f"
            },
            "type": "carpet"
           }
          ],
          "choropleth": [
           {
            "colorbar": {
             "outlinewidth": 0,
             "ticks": ""
            },
            "type": "choropleth"
           }
          ],
          "contour": [
           {
            "colorbar": {
             "outlinewidth": 0,
             "ticks": ""
            },
            "colorscale": [
             [
              0,
              "#0d0887"
             ],
             [
              0.1111111111111111,
              "#46039f"
             ],
             [
              0.2222222222222222,
              "#7201a8"
             ],
             [
              0.3333333333333333,
              "#9c179e"
             ],
             [
              0.4444444444444444,
              "#bd3786"
             ],
             [
              0.5555555555555556,
              "#d8576b"
             ],
             [
              0.6666666666666666,
              "#ed7953"
             ],
             [
              0.7777777777777778,
              "#fb9f3a"
             ],
             [
              0.8888888888888888,
              "#fdca26"
             ],
             [
              1,
              "#f0f921"
             ]
            ],
            "type": "contour"
           }
          ],
          "contourcarpet": [
           {
            "colorbar": {
             "outlinewidth": 0,
             "ticks": ""
            },
            "type": "contourcarpet"
           }
          ],
          "heatmap": [
           {
            "colorbar": {
             "outlinewidth": 0,
             "ticks": ""
            },
            "colorscale": [
             [
              0,
              "#0d0887"
             ],
             [
              0.1111111111111111,
              "#46039f"
             ],
             [
              0.2222222222222222,
              "#7201a8"
             ],
             [
              0.3333333333333333,
              "#9c179e"
             ],
             [
              0.4444444444444444,
              "#bd3786"
             ],
             [
              0.5555555555555556,
              "#d8576b"
             ],
             [
              0.6666666666666666,
              "#ed7953"
             ],
             [
              0.7777777777777778,
              "#fb9f3a"
             ],
             [
              0.8888888888888888,
              "#fdca26"
             ],
             [
              1,
              "#f0f921"
             ]
            ],
            "type": "heatmap"
           }
          ],
          "heatmapgl": [
           {
            "colorbar": {
             "outlinewidth": 0,
             "ticks": ""
            },
            "colorscale": [
             [
              0,
              "#0d0887"
             ],
             [
              0.1111111111111111,
              "#46039f"
             ],
             [
              0.2222222222222222,
              "#7201a8"
             ],
             [
              0.3333333333333333,
              "#9c179e"
             ],
             [
              0.4444444444444444,
              "#bd3786"
             ],
             [
              0.5555555555555556,
              "#d8576b"
             ],
             [
              0.6666666666666666,
              "#ed7953"
             ],
             [
              0.7777777777777778,
              "#fb9f3a"
             ],
             [
              0.8888888888888888,
              "#fdca26"
             ],
             [
              1,
              "#f0f921"
             ]
            ],
            "type": "heatmapgl"
           }
          ],
          "histogram": [
           {
            "marker": {
             "pattern": {
              "fillmode": "overlay",
              "size": 10,
              "solidity": 0.2
             }
            },
            "type": "histogram"
           }
          ],
          "histogram2d": [
           {
            "colorbar": {
             "outlinewidth": 0,
             "ticks": ""
            },
            "colorscale": [
             [
              0,
              "#0d0887"
             ],
             [
              0.1111111111111111,
              "#46039f"
             ],
             [
              0.2222222222222222,
              "#7201a8"
             ],
             [
              0.3333333333333333,
              "#9c179e"
             ],
             [
              0.4444444444444444,
              "#bd3786"
             ],
             [
              0.5555555555555556,
              "#d8576b"
             ],
             [
              0.6666666666666666,
              "#ed7953"
             ],
             [
              0.7777777777777778,
              "#fb9f3a"
             ],
             [
              0.8888888888888888,
              "#fdca26"
             ],
             [
              1,
              "#f0f921"
             ]
            ],
            "type": "histogram2d"
           }
          ],
          "histogram2dcontour": [
           {
            "colorbar": {
             "outlinewidth": 0,
             "ticks": ""
            },
            "colorscale": [
             [
              0,
              "#0d0887"
             ],
             [
              0.1111111111111111,
              "#46039f"
             ],
             [
              0.2222222222222222,
              "#7201a8"
             ],
             [
              0.3333333333333333,
              "#9c179e"
             ],
             [
              0.4444444444444444,
              "#bd3786"
             ],
             [
              0.5555555555555556,
              "#d8576b"
             ],
             [
              0.6666666666666666,
              "#ed7953"
             ],
             [
              0.7777777777777778,
              "#fb9f3a"
             ],
             [
              0.8888888888888888,
              "#fdca26"
             ],
             [
              1,
              "#f0f921"
             ]
            ],
            "type": "histogram2dcontour"
           }
          ],
          "mesh3d": [
           {
            "colorbar": {
             "outlinewidth": 0,
             "ticks": ""
            },
            "type": "mesh3d"
           }
          ],
          "parcoords": [
           {
            "line": {
             "colorbar": {
              "outlinewidth": 0,
              "ticks": ""
             }
            },
            "type": "parcoords"
           }
          ],
          "pie": [
           {
            "automargin": true,
            "type": "pie"
           }
          ],
          "scatter": [
           {
            "fillpattern": {
             "fillmode": "overlay",
             "size": 10,
             "solidity": 0.2
            },
            "type": "scatter"
           }
          ],
          "scatter3d": [
           {
            "line": {
             "colorbar": {
              "outlinewidth": 0,
              "ticks": ""
             }
            },
            "marker": {
             "colorbar": {
              "outlinewidth": 0,
              "ticks": ""
             }
            },
            "type": "scatter3d"
           }
          ],
          "scattercarpet": [
           {
            "marker": {
             "colorbar": {
              "outlinewidth": 0,
              "ticks": ""
             }
            },
            "type": "scattercarpet"
           }
          ],
          "scattergeo": [
           {
            "marker": {
             "colorbar": {
              "outlinewidth": 0,
              "ticks": ""
             }
            },
            "type": "scattergeo"
           }
          ],
          "scattergl": [
           {
            "marker": {
             "colorbar": {
              "outlinewidth": 0,
              "ticks": ""
             }
            },
            "type": "scattergl"
           }
          ],
          "scattermapbox": [
           {
            "marker": {
             "colorbar": {
              "outlinewidth": 0,
              "ticks": ""
             }
            },
            "type": "scattermapbox"
           }
          ],
          "scatterpolar": [
           {
            "marker": {
             "colorbar": {
              "outlinewidth": 0,
              "ticks": ""
             }
            },
            "type": "scatterpolar"
           }
          ],
          "scatterpolargl": [
           {
            "marker": {
             "colorbar": {
              "outlinewidth": 0,
              "ticks": ""
             }
            },
            "type": "scatterpolargl"
           }
          ],
          "scatterternary": [
           {
            "marker": {
             "colorbar": {
              "outlinewidth": 0,
              "ticks": ""
             }
            },
            "type": "scatterternary"
           }
          ],
          "surface": [
           {
            "colorbar": {
             "outlinewidth": 0,
             "ticks": ""
            },
            "colorscale": [
             [
              0,
              "#0d0887"
             ],
             [
              0.1111111111111111,
              "#46039f"
             ],
             [
              0.2222222222222222,
              "#7201a8"
             ],
             [
              0.3333333333333333,
              "#9c179e"
             ],
             [
              0.4444444444444444,
              "#bd3786"
             ],
             [
              0.5555555555555556,
              "#d8576b"
             ],
             [
              0.6666666666666666,
              "#ed7953"
             ],
             [
              0.7777777777777778,
              "#fb9f3a"
             ],
             [
              0.8888888888888888,
              "#fdca26"
             ],
             [
              1,
              "#f0f921"
             ]
            ],
            "type": "surface"
           }
          ],
          "table": [
           {
            "cells": {
             "fill": {
              "color": "#EBF0F8"
             },
             "line": {
              "color": "white"
             }
            },
            "header": {
             "fill": {
              "color": "#C8D4E3"
             },
             "line": {
              "color": "white"
             }
            },
            "type": "table"
           }
          ]
         },
         "layout": {
          "annotationdefaults": {
           "arrowcolor": "#2a3f5f",
           "arrowhead": 0,
           "arrowwidth": 1
          },
          "autotypenumbers": "strict",
          "coloraxis": {
           "colorbar": {
            "outlinewidth": 0,
            "ticks": ""
           }
          },
          "colorscale": {
           "diverging": [
            [
             0,
             "#8e0152"
            ],
            [
             0.1,
             "#c51b7d"
            ],
            [
             0.2,
             "#de77ae"
            ],
            [
             0.3,
             "#f1b6da"
            ],
            [
             0.4,
             "#fde0ef"
            ],
            [
             0.5,
             "#f7f7f7"
            ],
            [
             0.6,
             "#e6f5d0"
            ],
            [
             0.7,
             "#b8e186"
            ],
            [
             0.8,
             "#7fbc41"
            ],
            [
             0.9,
             "#4d9221"
            ],
            [
             1,
             "#276419"
            ]
           ],
           "sequential": [
            [
             0,
             "#0d0887"
            ],
            [
             0.1111111111111111,
             "#46039f"
            ],
            [
             0.2222222222222222,
             "#7201a8"
            ],
            [
             0.3333333333333333,
             "#9c179e"
            ],
            [
             0.4444444444444444,
             "#bd3786"
            ],
            [
             0.5555555555555556,
             "#d8576b"
            ],
            [
             0.6666666666666666,
             "#ed7953"
            ],
            [
             0.7777777777777778,
             "#fb9f3a"
            ],
            [
             0.8888888888888888,
             "#fdca26"
            ],
            [
             1,
             "#f0f921"
            ]
           ],
           "sequentialminus": [
            [
             0,
             "#0d0887"
            ],
            [
             0.1111111111111111,
             "#46039f"
            ],
            [
             0.2222222222222222,
             "#7201a8"
            ],
            [
             0.3333333333333333,
             "#9c179e"
            ],
            [
             0.4444444444444444,
             "#bd3786"
            ],
            [
             0.5555555555555556,
             "#d8576b"
            ],
            [
             0.6666666666666666,
             "#ed7953"
            ],
            [
             0.7777777777777778,
             "#fb9f3a"
            ],
            [
             0.8888888888888888,
             "#fdca26"
            ],
            [
             1,
             "#f0f921"
            ]
           ]
          },
          "colorway": [
           "#636efa",
           "#EF553B",
           "#00cc96",
           "#ab63fa",
           "#FFA15A",
           "#19d3f3",
           "#FF6692",
           "#B6E880",
           "#FF97FF",
           "#FECB52"
          ],
          "font": {
           "color": "#2a3f5f"
          },
          "geo": {
           "bgcolor": "white",
           "lakecolor": "white",
           "landcolor": "#E5ECF6",
           "showlakes": true,
           "showland": true,
           "subunitcolor": "white"
          },
          "hoverlabel": {
           "align": "left"
          },
          "hovermode": "closest",
          "mapbox": {
           "style": "light"
          },
          "paper_bgcolor": "white",
          "plot_bgcolor": "#E5ECF6",
          "polar": {
           "angularaxis": {
            "gridcolor": "white",
            "linecolor": "white",
            "ticks": ""
           },
           "bgcolor": "#E5ECF6",
           "radialaxis": {
            "gridcolor": "white",
            "linecolor": "white",
            "ticks": ""
           }
          },
          "scene": {
           "xaxis": {
            "backgroundcolor": "#E5ECF6",
            "gridcolor": "white",
            "gridwidth": 2,
            "linecolor": "white",
            "showbackground": true,
            "ticks": "",
            "zerolinecolor": "white"
           },
           "yaxis": {
            "backgroundcolor": "#E5ECF6",
            "gridcolor": "white",
            "gridwidth": 2,
            "linecolor": "white",
            "showbackground": true,
            "ticks": "",
            "zerolinecolor": "white"
           },
           "zaxis": {
            "backgroundcolor": "#E5ECF6",
            "gridcolor": "white",
            "gridwidth": 2,
            "linecolor": "white",
            "showbackground": true,
            "ticks": "",
            "zerolinecolor": "white"
           }
          },
          "shapedefaults": {
           "line": {
            "color": "#2a3f5f"
           }
          },
          "ternary": {
           "aaxis": {
            "gridcolor": "white",
            "linecolor": "white",
            "ticks": ""
           },
           "baxis": {
            "gridcolor": "white",
            "linecolor": "white",
            "ticks": ""
           },
           "bgcolor": "#E5ECF6",
           "caxis": {
            "gridcolor": "white",
            "linecolor": "white",
            "ticks": ""
           }
          },
          "title": {
           "x": 0.05
          },
          "xaxis": {
           "automargin": true,
           "gridcolor": "white",
           "linecolor": "white",
           "ticks": "",
           "title": {
            "standoff": 15
           },
           "zerolinecolor": "white",
           "zerolinewidth": 2
          },
          "yaxis": {
           "automargin": true,
           "gridcolor": "white",
           "linecolor": "white",
           "ticks": "",
           "title": {
            "standoff": 15
           },
           "zerolinecolor": "white",
           "zerolinewidth": 2
          }
         }
        },
        "title": {
         "text": "Scatter plot evaluating independence for genres in each triplet"
        },
        "width": 716,
        "xaxis": {
         "anchor": "y",
         "domain": [
          0,
          1
         ],
         "title": {
          "text": "mean count loss"
         }
        },
        "yaxis": {
         "anchor": "x",
         "domain": [
          0,
          1
         ],
         "title": {
          "text": "std loss"
         }
        }
       }
      }
     },
     "metadata": {},
     "output_type": "display_data"
    }
   ],
   "source": [
    "evaluation_df = pd.concat([mean_loss,genre_loss_std,mean_count],axis=1)\n",
    "evaluation_df.columns = ['mean count loss', 'std loss', 'mean counts']\n",
    "fig = px.scatter(evaluation_df , x = 'mean count loss', y = 'std loss', color = 'mean counts', title=\"Scatter plot evaluating independence for genres in each triplet\", width=716, height=750, hover_name = list(mean_count.index))\n",
    "fig.show()"
   ]
  },
  {
   "cell_type": "markdown",
   "metadata": {},
   "source": [
    "We can see that the triplet which looses few movie, in which the differences in count in the triplets is minimal and which has an overall high mean of counts of movies in the triplet is Romance Film, Action and Horror. "
   ]
  },
  {
   "cell_type": "code",
   "execution_count": 95,
   "metadata": {},
   "outputs": [],
   "source": [
    "#Check that each movie belongs to only one of the genres present in the triplet\n",
    "selected_genres = ['Romance Film', 'Action', 'Horror']\n",
    "\n",
    "for genre in selected_genres:\n",
    "    moviedata_filtered[genre] = moviedata_filtered['genres'].apply(lambda x: 1 if genre in x else 0)\n",
    "\n",
    "moviedata_filtered['unique_genre'] = moviedata_filtered.loc[:,selected_genres].sum(axis = 1)"
   ]
  },
  {
   "cell_type": "code",
   "execution_count": 96,
   "metadata": {},
   "outputs": [],
   "source": [
    "#Drop movies that belong to more than one genre in the triplet or none of them\n",
    "unique_genre = moviedata_filtered.drop(moviedata_filtered[moviedata_filtered['unique_genre'] != 1].index)"
   ]
  },
  {
   "cell_type": "code",
   "execution_count": 97,
   "metadata": {},
   "outputs": [
    {
     "data": {
      "text/plain": [
       "<AxesSubplot:>"
      ]
     },
     "execution_count": 97,
     "metadata": {},
     "output_type": "execute_result"
    },
    {
     "data": {
      "image/png": "[encoded data removed]",
      "text/plain": [
       "<Figure size 640x480 with 1 Axes>"
      ]
     },
     "metadata": {},
     "output_type": "display_data"
    }
   ],
   "source": [
    "#Plot the distribution of count of movies that belong to one genre in the triplets\n",
    "count_selected = to_1D(unique_genre['genres']).value_counts()\n",
    "\n",
    "count_selected = count_selected[count_selected>1000]\n",
    "\n",
    "count_selected.plot(kind='bar')"
   ]
  },
  {
   "cell_type": "markdown",
   "metadata": {},
   "source": [
    "We notice that comedy and Drama have a high count of movies. This means that the movies filtered at this point from the dataset belong in adtion to one of the triplet genre to the Drama or Comedy. This higlights the fact that these genre are more general than others."
   ]
  },
  {
   "cell_type": "code",
   "execution_count": 98,
   "metadata": {},
   "outputs": [
    {
     "data": {
      "text/html": [
       "<div>\n",
       "<style scoped>\n",
       "    .dataframe tbody tr th:only-of-type {\n",
       "        vertical-align: middle;\n",
       "    }\n",
       "\n",
       "    .dataframe tbody tr th {\n",
       "        vertical-align: top;\n",
       "    }\n",
       "\n",
       "    .dataframe thead th {\n",
       "        text-align: right;\n",
       "    }\n",
       "</style>\n",
       "<table border=\"1\" class=\"dataframe\">\n",
       "  <thead>\n",
       "    <tr style=\"text-align: right;\">\n",
       "      <th></th>\n",
       "      <th>movie_name</th>\n",
       "      <th>release</th>\n",
       "      <th>countries</th>\n",
       "      <th>genres</th>\n",
       "      <th>decade</th>\n",
       "      <th>year</th>\n",
       "      <th>Romance Film</th>\n",
       "      <th>Action</th>\n",
       "      <th>Horror</th>\n",
       "      <th>unique_genre</th>\n",
       "    </tr>\n",
       "    <tr>\n",
       "      <th>wiki_id</th>\n",
       "      <th></th>\n",
       "      <th></th>\n",
       "      <th></th>\n",
       "      <th></th>\n",
       "      <th></th>\n",
       "      <th></th>\n",
       "      <th></th>\n",
       "      <th></th>\n",
       "      <th></th>\n",
       "      <th></th>\n",
       "    </tr>\n",
       "  </thead>\n",
       "  <tbody>\n",
       "    <tr>\n",
       "      <th>31186339</th>\n",
       "      <td>The Hunger Games</td>\n",
       "      <td>2012</td>\n",
       "      <td>[United States of America]</td>\n",
       "      <td>[Action/Adventure, Action, Drama, Science Fict...</td>\n",
       "      <td>2010</td>\n",
       "      <td>2</td>\n",
       "      <td>0</td>\n",
       "      <td>1</td>\n",
       "      <td>0</td>\n",
       "      <td>1</td>\n",
       "    </tr>\n",
       "    <tr>\n",
       "      <th>20663735</th>\n",
       "      <td>Narasimham</td>\n",
       "      <td>2000</td>\n",
       "      <td>[India]</td>\n",
       "      <td>[Action, Musical, Drama, Bollywood]</td>\n",
       "      <td>2000</td>\n",
       "      <td>0</td>\n",
       "      <td>0</td>\n",
       "      <td>1</td>\n",
       "      <td>0</td>\n",
       "      <td>1</td>\n",
       "    </tr>\n",
       "    <tr>\n",
       "      <th>5272176</th>\n",
       "      <td>End Game</td>\n",
       "      <td>2006</td>\n",
       "      <td>[United States of America, Germany, Canada]</td>\n",
       "      <td>[Thriller, Action/Adventure, Action, Drama]</td>\n",
       "      <td>2000</td>\n",
       "      <td>6</td>\n",
       "      <td>0</td>\n",
       "      <td>1</td>\n",
       "      <td>0</td>\n",
       "      <td>1</td>\n",
       "    </tr>\n",
       "    <tr>\n",
       "      <th>1952976</th>\n",
       "      <td>Dark Water</td>\n",
       "      <td>2005</td>\n",
       "      <td>[United States of America]</td>\n",
       "      <td>[Drama, Thriller, Horror]</td>\n",
       "      <td>2000</td>\n",
       "      <td>5</td>\n",
       "      <td>0</td>\n",
       "      <td>0</td>\n",
       "      <td>1</td>\n",
       "      <td>1</td>\n",
       "    </tr>\n",
       "    <tr>\n",
       "      <th>2462689</th>\n",
       "      <td>Meet John Doe</td>\n",
       "      <td>1941</td>\n",
       "      <td>[United States of America]</td>\n",
       "      <td>[Romantic comedy, Black-and-white, Media Satir...</td>\n",
       "      <td>1940</td>\n",
       "      <td>1</td>\n",
       "      <td>1</td>\n",
       "      <td>0</td>\n",
       "      <td>0</td>\n",
       "      <td>1</td>\n",
       "    </tr>\n",
       "  </tbody>\n",
       "</table>\n",
       "</div>"
      ],
      "text/plain": [
       "                movie_name  release  \\\n",
       "wiki_id                               \n",
       "31186339  The Hunger Games     2012   \n",
       "20663735        Narasimham     2000   \n",
       "5272176           End Game     2006   \n",
       "1952976         Dark Water     2005   \n",
       "2462689      Meet John Doe     1941   \n",
       "\n",
       "                                            countries  \\\n",
       "wiki_id                                                 \n",
       "31186339                   [United States of America]   \n",
       "20663735                                      [India]   \n",
       "5272176   [United States of America, Germany, Canada]   \n",
       "1952976                    [United States of America]   \n",
       "2462689                    [United States of America]   \n",
       "\n",
       "                                                     genres  decade  year  \\\n",
       "wiki_id                                                                     \n",
       "31186339  [Action/Adventure, Action, Drama, Science Fict...    2010     2   \n",
       "20663735                [Action, Musical, Drama, Bollywood]    2000     0   \n",
       "5272176         [Thriller, Action/Adventure, Action, Drama]    2000     6   \n",
       "1952976                           [Drama, Thriller, Horror]    2000     5   \n",
       "2462689   [Romantic comedy, Black-and-white, Media Satir...    1940     1   \n",
       "\n",
       "          Romance Film  Action  Horror  unique_genre  \n",
       "wiki_id                                               \n",
       "31186339             0       1       0             1  \n",
       "20663735             0       1       0             1  \n",
       "5272176              0       1       0             1  \n",
       "1952976              0       0       1             1  \n",
       "2462689              1       0       0             1  "
      ]
     },
     "execution_count": 98,
     "metadata": {},
     "output_type": "execute_result"
    }
   ],
   "source": [
    "unique_genre.head()"
   ]
  },
  {
   "cell_type": "code",
   "execution_count": 99,
   "metadata": {},
   "outputs": [],
   "source": [
    "#Select the genre of the triplet to which the movie belongs\n",
    "for genre in selected_genres:\n",
    "    unique_genre['genres'] = unique_genre['genres'].apply(lambda x: genre if genre in x else x)"
   ]
  },
  {
   "cell_type": "code",
   "execution_count": 100,
   "metadata": {},
   "outputs": [
    {
     "data": {
      "text/html": [
       "<div>\n",
       "<style scoped>\n",
       "    .dataframe tbody tr th:only-of-type {\n",
       "        vertical-align: middle;\n",
       "    }\n",
       "\n",
       "    .dataframe tbody tr th {\n",
       "        vertical-align: top;\n",
       "    }\n",
       "\n",
       "    .dataframe thead th {\n",
       "        text-align: right;\n",
       "    }\n",
       "</style>\n",
       "<table border=\"1\" class=\"dataframe\">\n",
       "  <thead>\n",
       "    <tr style=\"text-align: right;\">\n",
       "      <th></th>\n",
       "      <th>movie_name</th>\n",
       "      <th>release</th>\n",
       "      <th>countries</th>\n",
       "      <th>genres</th>\n",
       "      <th>decade</th>\n",
       "      <th>year</th>\n",
       "      <th>Romance Film</th>\n",
       "      <th>Action</th>\n",
       "      <th>Horror</th>\n",
       "      <th>unique_genre</th>\n",
       "    </tr>\n",
       "    <tr>\n",
       "      <th>wiki_id</th>\n",
       "      <th></th>\n",
       "      <th></th>\n",
       "      <th></th>\n",
       "      <th></th>\n",
       "      <th></th>\n",
       "      <th></th>\n",
       "      <th></th>\n",
       "      <th></th>\n",
       "      <th></th>\n",
       "      <th></th>\n",
       "    </tr>\n",
       "  </thead>\n",
       "  <tbody>\n",
       "    <tr>\n",
       "      <th>31186339</th>\n",
       "      <td>The Hunger Games</td>\n",
       "      <td>2012</td>\n",
       "      <td>[United States of America]</td>\n",
       "      <td>Action</td>\n",
       "      <td>2010</td>\n",
       "      <td>2</td>\n",
       "      <td>0</td>\n",
       "      <td>1</td>\n",
       "      <td>0</td>\n",
       "      <td>1</td>\n",
       "    </tr>\n",
       "    <tr>\n",
       "      <th>20663735</th>\n",
       "      <td>Narasimham</td>\n",
       "      <td>2000</td>\n",
       "      <td>[India]</td>\n",
       "      <td>Action</td>\n",
       "      <td>2000</td>\n",
       "      <td>0</td>\n",
       "      <td>0</td>\n",
       "      <td>1</td>\n",
       "      <td>0</td>\n",
       "      <td>1</td>\n",
       "    </tr>\n",
       "    <tr>\n",
       "      <th>5272176</th>\n",
       "      <td>End Game</td>\n",
       "      <td>2006</td>\n",
       "      <td>[United States of America, Germany, Canada]</td>\n",
       "      <td>Action</td>\n",
       "      <td>2000</td>\n",
       "      <td>6</td>\n",
       "      <td>0</td>\n",
       "      <td>1</td>\n",
       "      <td>0</td>\n",
       "      <td>1</td>\n",
       "    </tr>\n",
       "    <tr>\n",
       "      <th>1952976</th>\n",
       "      <td>Dark Water</td>\n",
       "      <td>2005</td>\n",
       "      <td>[United States of America]</td>\n",
       "      <td>Horror</td>\n",
       "      <td>2000</td>\n",
       "      <td>5</td>\n",
       "      <td>0</td>\n",
       "      <td>0</td>\n",
       "      <td>1</td>\n",
       "      <td>1</td>\n",
       "    </tr>\n",
       "    <tr>\n",
       "      <th>2462689</th>\n",
       "      <td>Meet John Doe</td>\n",
       "      <td>1941</td>\n",
       "      <td>[United States of America]</td>\n",
       "      <td>Romance Film</td>\n",
       "      <td>1940</td>\n",
       "      <td>1</td>\n",
       "      <td>1</td>\n",
       "      <td>0</td>\n",
       "      <td>0</td>\n",
       "      <td>1</td>\n",
       "    </tr>\n",
       "  </tbody>\n",
       "</table>\n",
       "</div>"
      ],
      "text/plain": [
       "                movie_name  release  \\\n",
       "wiki_id                               \n",
       "31186339  The Hunger Games     2012   \n",
       "20663735        Narasimham     2000   \n",
       "5272176           End Game     2006   \n",
       "1952976         Dark Water     2005   \n",
       "2462689      Meet John Doe     1941   \n",
       "\n",
       "                                            countries        genres  decade  \\\n",
       "wiki_id                                                                       \n",
       "31186339                   [United States of America]        Action    2010   \n",
       "20663735                                      [India]        Action    2000   \n",
       "5272176   [United States of America, Germany, Canada]        Action    2000   \n",
       "1952976                    [United States of America]        Horror    2000   \n",
       "2462689                    [United States of America]  Romance Film    1940   \n",
       "\n",
       "          year  Romance Film  Action  Horror  unique_genre  \n",
       "wiki_id                                                     \n",
       "31186339     2             0       1       0             1  \n",
       "20663735     0             0       1       0             1  \n",
       "5272176      6             0       1       0             1  \n",
       "1952976      5             0       0       1             1  \n",
       "2462689      1             1       0       0             1  "
      ]
     },
     "execution_count": 100,
     "metadata": {},
     "output_type": "execute_result"
    }
   ],
   "source": [
    "unique_genre.head()"
   ]
  },
  {
   "cell_type": "code",
   "execution_count": 101,
   "metadata": {},
   "outputs": [
    {
     "name": "stdout",
     "output_type": "stream",
     "text": [
      "Looking at these three specific genres we can study the evolution of women represention in 13007 movies\n"
     ]
    }
   ],
   "source": [
    "print('Looking at these three specific genres we can study the evolution of women represention in {} movies'.format(len(unique_genre)))"
   ]
  },
  {
   "cell_type": "code",
   "execution_count": 102,
   "metadata": {},
   "outputs": [
    {
     "data": {
      "text/html": [
       "<div>\n",
       "<style scoped>\n",
       "    .dataframe tbody tr th:only-of-type {\n",
       "        vertical-align: middle;\n",
       "    }\n",
       "\n",
       "    .dataframe tbody tr th {\n",
       "        vertical-align: top;\n",
       "    }\n",
       "\n",
       "    .dataframe thead th {\n",
       "        text-align: right;\n",
       "    }\n",
       "</style>\n",
       "<table border=\"1\" class=\"dataframe\">\n",
       "  <thead>\n",
       "    <tr style=\"text-align: right;\">\n",
       "      <th></th>\n",
       "      <th>movie_name</th>\n",
       "      <th>release</th>\n",
       "      <th>countries</th>\n",
       "      <th>genres</th>\n",
       "      <th>decade</th>\n",
       "      <th>year</th>\n",
       "      <th>Romance Film</th>\n",
       "      <th>Action</th>\n",
       "      <th>Horror</th>\n",
       "      <th>unique_genre</th>\n",
       "    </tr>\n",
       "    <tr>\n",
       "      <th>wiki_id</th>\n",
       "      <th></th>\n",
       "      <th></th>\n",
       "      <th></th>\n",
       "      <th></th>\n",
       "      <th></th>\n",
       "      <th></th>\n",
       "      <th></th>\n",
       "      <th></th>\n",
       "      <th></th>\n",
       "      <th></th>\n",
       "    </tr>\n",
       "  </thead>\n",
       "  <tbody>\n",
       "    <tr>\n",
       "      <th>31186339</th>\n",
       "      <td>The Hunger Games</td>\n",
       "      <td>2012</td>\n",
       "      <td>[United States of America]</td>\n",
       "      <td>Action</td>\n",
       "      <td>2010</td>\n",
       "      <td>2</td>\n",
       "      <td>0</td>\n",
       "      <td>1</td>\n",
       "      <td>0</td>\n",
       "      <td>1</td>\n",
       "    </tr>\n",
       "    <tr>\n",
       "      <th>20663735</th>\n",
       "      <td>Narasimham</td>\n",
       "      <td>2000</td>\n",
       "      <td>[India]</td>\n",
       "      <td>Action</td>\n",
       "      <td>2000</td>\n",
       "      <td>0</td>\n",
       "      <td>0</td>\n",
       "      <td>1</td>\n",
       "      <td>0</td>\n",
       "      <td>1</td>\n",
       "    </tr>\n",
       "    <tr>\n",
       "      <th>5272176</th>\n",
       "      <td>End Game</td>\n",
       "      <td>2006</td>\n",
       "      <td>[United States of America, Germany, Canada]</td>\n",
       "      <td>Action</td>\n",
       "      <td>2000</td>\n",
       "      <td>6</td>\n",
       "      <td>0</td>\n",
       "      <td>1</td>\n",
       "      <td>0</td>\n",
       "      <td>1</td>\n",
       "    </tr>\n",
       "    <tr>\n",
       "      <th>1952976</th>\n",
       "      <td>Dark Water</td>\n",
       "      <td>2005</td>\n",
       "      <td>[United States of America]</td>\n",
       "      <td>Horror</td>\n",
       "      <td>2000</td>\n",
       "      <td>5</td>\n",
       "      <td>0</td>\n",
       "      <td>0</td>\n",
       "      <td>1</td>\n",
       "      <td>1</td>\n",
       "    </tr>\n",
       "    <tr>\n",
       "      <th>2462689</th>\n",
       "      <td>Meet John Doe</td>\n",
       "      <td>1941</td>\n",
       "      <td>[United States of America]</td>\n",
       "      <td>Romance Film</td>\n",
       "      <td>1940</td>\n",
       "      <td>1</td>\n",
       "      <td>1</td>\n",
       "      <td>0</td>\n",
       "      <td>0</td>\n",
       "      <td>1</td>\n",
       "    </tr>\n",
       "  </tbody>\n",
       "</table>\n",
       "</div>"
      ],
      "text/plain": [
       "                movie_name  release  \\\n",
       "wiki_id                               \n",
       "31186339  The Hunger Games     2012   \n",
       "20663735        Narasimham     2000   \n",
       "5272176           End Game     2006   \n",
       "1952976         Dark Water     2005   \n",
       "2462689      Meet John Doe     1941   \n",
       "\n",
       "                                            countries        genres  decade  \\\n",
       "wiki_id                                                                       \n",
       "31186339                   [United States of America]        Action    2010   \n",
       "20663735                                      [India]        Action    2000   \n",
       "5272176   [United States of America, Germany, Canada]        Action    2000   \n",
       "1952976                    [United States of America]        Horror    2000   \n",
       "2462689                    [United States of America]  Romance Film    1940   \n",
       "\n",
       "          year  Romance Film  Action  Horror  unique_genre  \n",
       "wiki_id                                                     \n",
       "31186339     2             0       1       0             1  \n",
       "20663735     0             0       1       0             1  \n",
       "5272176      6             0       1       0             1  \n",
       "1952976      5             0       0       1             1  \n",
       "2462689      1             1       0       0             1  "
      ]
     },
     "execution_count": 102,
     "metadata": {},
     "output_type": "execute_result"
    }
   ],
   "source": [
    "unique_genre.head()"
   ]
  },
  {
   "cell_type": "code",
   "execution_count": 103,
   "metadata": {},
   "outputs": [
    {
     "name": "stdout",
     "output_type": "stream",
     "text": [
      "We have a total of 13007 movies which allow the analysis over time\n"
     ]
    }
   ],
   "source": [
    "print('We have a total of {} movies which allow the analysis over time'.format(len(unique_genre)))"
   ]
  },
  {
   "cell_type": "code",
   "execution_count": 104,
   "metadata": {},
   "outputs": [],
   "source": [
    "#Split the previous dataframe in three distinct ones for each genre to allow parallel analysis\n",
    "horror = unique_genre.loc[unique_genre['genres'] == 'Horror'].copy()\n",
    "action = unique_genre.loc[unique_genre['genres'] == 'Action'].copy()\n",
    "romance = unique_genre.loc[unique_genre['genres'] == 'Romance Film'].copy()"
   ]
  },
  {
   "cell_type": "code",
   "execution_count": 105,
   "metadata": {},
   "outputs": [
    {
     "name": "stdout",
     "output_type": "stream",
     "text": [
      "We have now 2987 horror movies extracted.\n",
      "We have now 4499 horror movies extracted.\n",
      "We have now 5521 horror movies extracted.\n"
     ]
    }
   ],
   "source": [
    "#counts the amount of revenues provided in each genre\n",
    "horror_count = len(horror.index)\n",
    "action_count = len(action.index)\n",
    "romance_count = len(romance.index)\n",
    "print('We have now {} horror movies extracted.'.format(horror_count))\n",
    "print('We have now {} horror movies extracted.'.format(action_count))\n",
    "print('We have now {} horror movies extracted.'.format(romance_count))"
   ]
  },
  {
   "cell_type": "markdown",
   "metadata": {},
   "source": [
    "Once more, we notice that a high amount of revenues were not indicated.\n",
    "\n",
    "Now we will look at the evolution of the number of movies per decade for each of the three genres selected. We remove movies released after 2009 as we do not have the data for the complete 2010s decade. We also remove all movies released before the first year in which all three genres at a movie released so that we have a common timescale that can be compaed among the three genres."
   ]
  },
  {
   "cell_type": "code",
   "execution_count": 131,
   "metadata": {},
   "outputs": [
    {
     "data": {
      "text/html": [
       "<div>\n",
       "<style scoped>\n",
       "    .dataframe tbody tr th:only-of-type {\n",
       "        vertical-align: middle;\n",
       "    }\n",
       "\n",
       "    .dataframe tbody tr th {\n",
       "        vertical-align: top;\n",
       "    }\n",
       "\n",
       "    .dataframe thead th {\n",
       "        text-align: right;\n",
       "    }\n",
       "</style>\n",
       "<table border=\"1\" class=\"dataframe\">\n",
       "  <thead>\n",
       "    <tr style=\"text-align: right;\">\n",
       "      <th></th>\n",
       "      <th>horror_nb_women</th>\n",
       "      <th>horror_nb_men</th>\n",
       "      <th>action_nb_women</th>\n",
       "      <th>action_nb_men</th>\n",
       "      <th>romance_nb_women</th>\n",
       "      <th>romance_nb_men</th>\n",
       "    </tr>\n",
       "    <tr>\n",
       "      <th>decade</th>\n",
       "      <th></th>\n",
       "      <th></th>\n",
       "      <th></th>\n",
       "      <th></th>\n",
       "      <th></th>\n",
       "      <th></th>\n",
       "    </tr>\n",
       "  </thead>\n",
       "  <tbody>\n",
       "    <tr>\n",
       "      <th>1920</th>\n",
       "      <td>14</td>\n",
       "      <td>3</td>\n",
       "      <td>10</td>\n",
       "      <td>6</td>\n",
       "      <td>82</td>\n",
       "      <td>43</td>\n",
       "    </tr>\n",
       "    <tr>\n",
       "      <th>1930</th>\n",
       "      <td>76</td>\n",
       "      <td>65</td>\n",
       "      <td>125</td>\n",
       "      <td>290</td>\n",
       "      <td>527</td>\n",
       "      <td>411</td>\n",
       "    </tr>\n",
       "    <tr>\n",
       "      <th>1940</th>\n",
       "      <td>99</td>\n",
       "      <td>135</td>\n",
       "      <td>168</td>\n",
       "      <td>570</td>\n",
       "      <td>610</td>\n",
       "      <td>764</td>\n",
       "    </tr>\n",
       "    <tr>\n",
       "      <th>1950</th>\n",
       "      <td>129</td>\n",
       "      <td>380</td>\n",
       "      <td>263</td>\n",
       "      <td>1119</td>\n",
       "      <td>833</td>\n",
       "      <td>1235</td>\n",
       "    </tr>\n",
       "    <tr>\n",
       "      <th>1960</th>\n",
       "      <td>305</td>\n",
       "      <td>651</td>\n",
       "      <td>408</td>\n",
       "      <td>1569</td>\n",
       "      <td>939</td>\n",
       "      <td>1430</td>\n",
       "    </tr>\n",
       "    <tr>\n",
       "      <th>1970</th>\n",
       "      <td>735</td>\n",
       "      <td>1299</td>\n",
       "      <td>642</td>\n",
       "      <td>2518</td>\n",
       "      <td>782</td>\n",
       "      <td>1244</td>\n",
       "    </tr>\n",
       "    <tr>\n",
       "      <th>1980</th>\n",
       "      <td>928</td>\n",
       "      <td>1739</td>\n",
       "      <td>1087</td>\n",
       "      <td>3810</td>\n",
       "      <td>1442</td>\n",
       "      <td>2393</td>\n",
       "    </tr>\n",
       "    <tr>\n",
       "      <th>1990</th>\n",
       "      <td>888</td>\n",
       "      <td>1584</td>\n",
       "      <td>1688</td>\n",
       "      <td>5002</td>\n",
       "      <td>2930</td>\n",
       "      <td>4386</td>\n",
       "    </tr>\n",
       "    <tr>\n",
       "      <th>2000</th>\n",
       "      <td>2548</td>\n",
       "      <td>3990</td>\n",
       "      <td>3033</td>\n",
       "      <td>8403</td>\n",
       "      <td>6682</td>\n",
       "      <td>8972</td>\n",
       "    </tr>\n",
       "  </tbody>\n",
       "</table>\n",
       "</div>"
      ],
      "text/plain": [
       "        horror_nb_women  horror_nb_men  action_nb_women  action_nb_men  \\\n",
       "decade                                                                   \n",
       "1920                 14              3               10              6   \n",
       "1930                 76             65              125            290   \n",
       "1940                 99            135              168            570   \n",
       "1950                129            380              263           1119   \n",
       "1960                305            651              408           1569   \n",
       "1970                735           1299              642           2518   \n",
       "1980                928           1739             1087           3810   \n",
       "1990                888           1584             1688           5002   \n",
       "2000               2548           3990             3033           8403   \n",
       "\n",
       "        romance_nb_women  romance_nb_men  \n",
       "decade                                    \n",
       "1920                  82              43  \n",
       "1930                 527             411  \n",
       "1940                 610             764  \n",
       "1950                 833            1235  \n",
       "1960                 939            1430  \n",
       "1970                 782            1244  \n",
       "1980                1442            2393  \n",
       "1990                2930            4386  \n",
       "2000                6682            8972  "
      ]
     },
     "execution_count": 131,
     "metadata": {},
     "output_type": "execute_result"
    }
   ],
   "source": [
    "#Find the first common year of release of a movie\n",
    "min_shared_decade = max(min(horror['decade'].sort_values().unique()), min(romance['decade'].sort_values().unique()), min(action['decade'].sort_values().unique()))\n",
    "\n",
    "#Drop all movies Before the minimal year and after 2009 \n",
    "horror = horror.loc[(horror['decade'] >= min_shared_decade) & (horror['decade'] < 2010)].copy()\n",
    "action = action.loc[(action['decade'] >= min_shared_decade) & (action['decade'] < 2010)].copy()\n",
    "romance = romance.loc[(romance['decade'] >= min_shared_decade) & (romance['decade'] < 2010)].copy()\n",
    "\n",
    "#Check number of characters per gender per decade for each genre\n",
    "count_movies_genres = pd.DataFrame({'horror_nb_women' : horror.groupby('decade')['nb_women'].sum(),\n",
    "                                    'horror_nb_men' : horror.groupby('decade')['nb_men'].sum(),\n",
    "                                    'action_nb_women' : action.groupby('decade')['nb_women'].sum(),\n",
    "                                    'action_nb_men' : action.groupby('decade')['nb_men'].sum(),\n",
    "                                    'romance_nb_women' : romance.groupby('decade')['nb_women'].sum(),\n",
    "                                    'romance_nb_men' : romance.groupby('decade')['nb_men'].sum(),\n",
    "                                    })\n",
    "count_movies_genres"
   ]
  },
  {
   "cell_type": "markdown",
   "metadata": {},
   "source": [
    "We can see that the decade 1910 contains too few values for the gender analysis. We can remove it."
   ]
  },
  {
   "cell_type": "code",
   "execution_count": 130,
   "metadata": {},
   "outputs": [],
   "source": [
    "horror = horror.loc[horror['decade'] > 1910].copy()\n",
    "action = action.loc[action['decade'] > 1910].copy()\n",
    "romance = romance.loc[romance['decade'] > 1910].copy()"
   ]
  },
  {
   "cell_type": "code",
   "execution_count": 132,
   "metadata": {},
   "outputs": [
    {
     "data": {
      "image/png": "[encoded data removed]",
      "text/plain": [
       "<Figure size 640x480 with 1 Axes>"
      ]
     },
     "metadata": {},
     "output_type": "display_data"
    }
   ],
   "source": [
    "#Plot the evolution of the movie count per genre and per decade \n",
    "plt.bar(horror['decade'].sort_values().unique(), horror.groupby(['decade'])['release'].count(), label = 'horror')\n",
    "plt.bar(action['decade'].sort_values().unique() - 1.5, action.groupby(['decade'])['release'].count(), color='red', label = 'action')\n",
    "plt.bar(romance['decade'].sort_values().unique() + 1.5, romance.groupby(['decade'])['release'].count(), color= 'green', label = 'romance')\n",
    "\n",
    "plt.legend(loc = 'upper left')\n",
    "plt.title('Evolution of movie counts per genre in function of the decade')\n",
    "plt.xlabel('Decade')\n",
    "plt.ylabel('Number of movies')\n",
    "plt.show()"
   ]
  },
  {
   "cell_type": "code",
   "execution_count": 133,
   "metadata": {},
   "outputs": [
    {
     "data": {
      "image/png": "[encoded data removed]",
      "text/plain": [
       "<Figure size 500x1100 with 3 Axes>"
      ]
     },
     "metadata": {},
     "output_type": "display_data"
    }
   ],
   "source": [
    "#Subplot the evolution of the movie per decade for each genre with the detailed count per year\n",
    "fig = plt.figure(figsize=(5, 11))\n",
    "gs = fig.add_gridspec(3, hspace=0.15)\n",
    "axs = gs.subplots(sharex=True, sharey=True)\n",
    "\n",
    "horror.groupby(['decade', 'year'])['release'].count().unstack().plot.bar(ax = axs[0], stacked=True)\n",
    "romance.groupby(['decade', 'year'])['release'].count().unstack().plot.bar(ax = axs[1], stacked=True)\n",
    "action.groupby(['decade', 'year'])['release'].count().unstack().plot.bar(ax = axs[2], stacked=True)\n",
    "\n",
    "axs[0].get_legend().remove()\n",
    "axs[1].get_legend().remove()\n",
    "\n",
    "axs[0].title.set_text('Horror movies')\n",
    "axs[1].title.set_text('Romance movies')\n",
    "axs[2].title.set_text('Action movies')\n",
    "\n",
    "fig.suptitle('Number of movies counts separated by year and genre')\n",
    "fig.subplots_adjust(top=0.92)"
   ]
  },
  {
   "cell_type": "markdown",
   "metadata": {},
   "source": [
    "### Character data analysis"
   ]
  },
  {
   "cell_type": "code",
   "execution_count": 134,
   "metadata": {},
   "outputs": [
    {
     "data": {
      "text/html": [
       "<div>\n",
       "<style scoped>\n",
       "    .dataframe tbody tr th:only-of-type {\n",
       "        vertical-align: middle;\n",
       "    }\n",
       "\n",
       "    .dataframe tbody tr th {\n",
       "        vertical-align: top;\n",
       "    }\n",
       "\n",
       "    .dataframe thead th {\n",
       "        text-align: right;\n",
       "    }\n",
       "</style>\n",
       "<table border=\"1\" class=\"dataframe\">\n",
       "  <thead>\n",
       "    <tr style=\"text-align: right;\">\n",
       "      <th></th>\n",
       "      <th>release</th>\n",
       "      <th>character_name</th>\n",
       "      <th>actor_gender</th>\n",
       "      <th>actor_name</th>\n",
       "      <th>actor_age</th>\n",
       "      <th>decade</th>\n",
       "    </tr>\n",
       "    <tr>\n",
       "      <th>wiki_id</th>\n",
       "      <th></th>\n",
       "      <th></th>\n",
       "      <th></th>\n",
       "      <th></th>\n",
       "      <th></th>\n",
       "      <th></th>\n",
       "    </tr>\n",
       "  </thead>\n",
       "  <tbody>\n",
       "    <tr>\n",
       "      <th>1952976</th>\n",
       "      <td>2005</td>\n",
       "      <td>Mediator</td>\n",
       "      <td>F</td>\n",
       "      <td>Linda Emond</td>\n",
       "      <td>46.0</td>\n",
       "      <td>2000</td>\n",
       "    </tr>\n",
       "    <tr>\n",
       "      <th>1952976</th>\n",
       "      <td>2005</td>\n",
       "      <td>Dahlia</td>\n",
       "      <td>F</td>\n",
       "      <td>Jennifer Connelly</td>\n",
       "      <td>34.0</td>\n",
       "      <td>2000</td>\n",
       "    </tr>\n",
       "    <tr>\n",
       "      <th>1952976</th>\n",
       "      <td>2005</td>\n",
       "      <td>Mr. Murray</td>\n",
       "      <td>M</td>\n",
       "      <td>John C. Reilly</td>\n",
       "      <td>40.0</td>\n",
       "      <td>2000</td>\n",
       "    </tr>\n",
       "    <tr>\n",
       "      <th>1952976</th>\n",
       "      <td>2005</td>\n",
       "      <td>Jeff Platzer</td>\n",
       "      <td>M</td>\n",
       "      <td>Tim Roth</td>\n",
       "      <td>44.0</td>\n",
       "      <td>2000</td>\n",
       "    </tr>\n",
       "    <tr>\n",
       "      <th>1952976</th>\n",
       "      <td>2005</td>\n",
       "      <td>Kyle Williams</td>\n",
       "      <td>M</td>\n",
       "      <td>Dougray Scott</td>\n",
       "      <td>39.0</td>\n",
       "      <td>2000</td>\n",
       "    </tr>\n",
       "  </tbody>\n",
       "</table>\n",
       "</div>"
      ],
      "text/plain": [
       "         release character_name actor_gender         actor_name  actor_age  \\\n",
       "wiki_id                                                                      \n",
       "1952976     2005       Mediator            F        Linda Emond       46.0   \n",
       "1952976     2005         Dahlia            F  Jennifer Connelly       34.0   \n",
       "1952976     2005     Mr. Murray            M     John C. Reilly       40.0   \n",
       "1952976     2005   Jeff Platzer            M           Tim Roth       44.0   \n",
       "1952976     2005  Kyle Williams            M      Dougray Scott       39.0   \n",
       "\n",
       "         decade  \n",
       "wiki_id          \n",
       "1952976    2000  \n",
       "1952976    2000  \n",
       "1952976    2000  \n",
       "1952976    2000  \n",
       "1952976    2000  "
      ]
     },
     "execution_count": 134,
     "metadata": {},
     "output_type": "execute_result"
    }
   ],
   "source": [
    "#Select characters according to movies belonging to one of the three genres\n",
    "horror_charadata = charadata_filtered.loc[horror.index.intersection(charadata_filtered.index)]\n",
    "action_charadata = charadata_filtered.loc[action.index.intersection(charadata_filtered.index)]\n",
    "romance_charadata = charadata_filtered.loc[romance.index.intersection(charadata_filtered.index)]\n",
    "horror_charadata.head()"
   ]
  },
  {
   "cell_type": "code",
   "execution_count": 135,
   "metadata": {},
   "outputs": [],
   "source": [
    "#Function which analyses character information such as age and gender and compare men and women characteristics\n",
    "def count_chara(genre_data,character_genre):\n",
    "    character_genre = character_genre.groupby('wiki_id')\n",
    "    nb_characters = character_genre['actor_gender'].count()\n",
    "    genre_data['nb_characters'] = nb_characters\n",
    "    genre_data['nb_women'] = character_genre['actor_gender'].apply(lambda x: x[x == 'F'].count())\n",
    "    genre_data['nb_men'] = character_genre['actor_gender'].apply(lambda x: x[x == 'M'].count())\n",
    "    genre_data['ratio_gender'] = genre_data['nb_women'] / genre_data['nb_men']\n",
    "    genre_data['average_age_men'] = character_genre.apply(lambda x: x['actor_age'].loc[x['actor_gender'] == 'M'].mean())\n",
    "    genre_data['average_age_women'] = character_genre.apply(lambda x: x['actor_age'].loc[x['actor_gender'] == 'F'].mean())"
   ]
  },
  {
   "cell_type": "code",
   "execution_count": 136,
   "metadata": {},
   "outputs": [],
   "source": [
    "count_chara(horror, horror_charadata)\n",
    "count_chara(action, action_charadata)\n",
    "count_chara(romance, romance_charadata)"
   ]
  },
  {
   "cell_type": "code",
   "execution_count": 137,
   "metadata": {},
   "outputs": [],
   "source": [
    "# The function computes the means of the age of men and women actors as well as the standard deviations for each decade \n",
    "\n",
    "def stats_age_decade(genre_charadata):\n",
    "\n",
    "    genre_age = genre_charadata.groupby(['decade'])\n",
    "    mean_age_men = genre_age.apply(lambda x : x.loc[x['actor_gender'] == 'M']['actor_age'].mean())\n",
    "    std_age_men = genre_age.apply(lambda x : x.loc[x['actor_gender'] == 'M']['actor_age'].std())\n",
    "    mean_age_women = genre_age.apply(lambda x : x.loc[x['actor_gender'] == 'F']['actor_age'].mean())\n",
    "    std_age_women = genre_age.apply(lambda x : x.loc[x['actor_gender'] == 'F']['actor_age'].std())\n",
    "\n",
    "    return mean_age_men, std_age_men, mean_age_women, std_age_women"
   ]
  },
  {
   "cell_type": "code",
   "execution_count": 138,
   "metadata": {},
   "outputs": [
    {
     "data": {
      "image/png": "[encoded data removed]",
      "text/plain": [
       "<Figure size 500x1100 with 3 Axes>"
      ]
     },
     "metadata": {},
     "output_type": "display_data"
    }
   ],
   "source": [
    "# Compute some stats for the three selected genres and plot them by decade for each genre\n",
    "action_age = stats_age_decade(action_charadata)\n",
    "horror_age = stats_age_decade(horror_charadata)\n",
    "romance_age = stats_age_decade(romance_charadata)\n",
    "\n",
    "fig, (ax0, ax1, ax2) = plt.subplots(nrows=3,figsize=(5, 11), sharex = True, sharey = True)\n",
    "width = 3\n",
    "\n",
    "ax0.bar(action_age[0].index + width/2, action_age[0],width, yerr = action_age[1],label='Men', color = 'blue')\n",
    "ax0.bar(action_age[2].index - width/2, action_age[2],width, yerr = action_age[3],  label='Women', color = 'red')\n",
    "ax1.bar(horror_age[0].index + width/2, horror_age[0],width, yerr = horror_age[1],label='Men', color = 'blue')\n",
    "ax1.bar(horror_age[2].index - width/2, horror_age[2],width, yerr = horror_age[3],  label='Women', color = 'red')\n",
    "ax2.bar(romance_age[0].index + width/2, romance_age[0],width, yerr = romance_age[1],label='Men', color = 'blue')\n",
    "ax2.bar(romance_age[2].index - width/2, romance_age[2],width, yerr = romance_age[3],  label='Women', color = 'red')\n",
    "\n",
    "\n",
    "ax0.set_title('Action movies')\n",
    "ax1.set_title('Horror movies')\n",
    "ax2.set_title('Romance movies')\n",
    "\n",
    "ax0.set_ylabel('Average age')\n",
    "ax1.set_ylabel('Average age')\n",
    "ax2.set_ylabel('Average age')\n",
    "\n",
    "ax2.legend(loc='upper left')\n",
    "\n",
    "fig.suptitle('Number of movies counts separated by year and genre')\n",
    "fig.subplots_adjust(top=0.92)"
   ]
  },
  {
   "cell_type": "code",
   "execution_count": 139,
   "metadata": {},
   "outputs": [
    {
     "data": {
      "image/png": "[encoded data removed]",
      "text/plain": [
       "<Figure size 500x1100 with 3 Axes>"
      ]
     },
     "metadata": {},
     "output_type": "display_data"
    }
   ],
   "source": [
    "#Plot the average number of men vs women for each genre over time\n",
    "\n",
    "width = 3\n",
    "action_nb_men = action.groupby(['decade'])['nb_men']\n",
    "action_nb_women = action.groupby(['decade'])['nb_women']\n",
    "horror_nb_men = horror.groupby(['decade'])['nb_men']\n",
    "horror_nb_women = horror.groupby(['decade'])['nb_women']\n",
    "romance_nb_men = romance.groupby(['decade'])['nb_men']\n",
    "romance_nb_women = romance.groupby(['decade'])['nb_women']\n",
    "\n",
    "fig, (ax0, ax1, ax2) = plt.subplots(nrows=3,figsize=(5, 11), sharex = True, sharey = True)\n",
    "\n",
    "ax0.bar(action['decade'].sort_values().unique() + width/2, action_nb_men.mean(),width, yerr = action_nb_men.std(),label='Men', color = 'blue')\n",
    "ax0.bar(action['decade'].sort_values().unique() - width/2, action_nb_women.mean(),width, yerr = action_nb_women.std(),  label='Women', color = 'red')\n",
    "ax1.bar(action['decade'].sort_values().unique() + width/2, horror_nb_men.mean(),width, yerr = horror_nb_men.std(),label='Men', color = 'blue')\n",
    "ax1.bar(action['decade'].sort_values().unique() - width/2, horror_nb_women.mean(),width, yerr = horror_nb_women.std(),  label='Women', color = 'red')\n",
    "ax2.bar(action['decade'].sort_values().unique() + width/2, romance_nb_men.mean(),width, yerr = romance_nb_men.std(),label='Men', color = 'blue')\n",
    "ax2.bar(action['decade'].sort_values().unique() - width/2, romance_nb_women.mean(),width, yerr = romance_nb_women.std(),  label='Women', color = 'red')\n",
    "\n",
    "ax0.set_title('Action movies')\n",
    "ax1.set_title('Horror movies')\n",
    "ax2.set_title('Romance movies')\n",
    "\n",
    "ax0.set_ylabel('Average number')\n",
    "ax1.set_ylabel('Average number')\n",
    "ax2.set_ylabel('Average number')\n",
    "\n",
    "ax2.legend(loc='upper left')\n",
    "\n",
    "fig.suptitle('Number of male vs female characters separated by decade and genre')\n",
    "fig.subplots_adjust(top=0.92)"
   ]
  },
  {
   "cell_type": "markdown",
   "metadata": {},
   "source": [
    "### Language Analysis"
   ]
  },
  {
   "cell_type": "code",
   "execution_count": null,
   "metadata": {},
   "outputs": [],
   "source": [
    "from bs4 import BeautifulSoup\n",
    "from bs4 import SoupStrainer\n",
    "import gzip\n",
    "import re\n",
    "\n",
    "NLP_FOLDER = 'CoreNLP/corenlp_plot_summaries/'"
   ]
  },
  {
   "cell_type": "code",
   "execution_count": 61,
   "metadata": {},
   "outputs": [],
   "source": [
    "#select only caharacters for which we have both the gender and the charcter name to allow langage analysis\n",
    "charadata_2 = charadata_filtered[charadata_filtered[\"character_name\"].notna()]  \n",
    "intersection = moviedata_filtered.index.intersection(charadata_2.index)\n",
    "intersection = plots.index.intersection(intersection)\n",
    "\n",
    "charadata_2 = charadata_2.reset_index()\n",
    "movie_2 = moviedata_filtered.loc[intersection]\n",
    "movie_2 = movie_2.reset_index()\n",
    "\n",
    "# select 1000 random movies per decade from 1940 to process a langage analysis on the plots\n",
    "rng = np.random.default_rng(7)\n",
    "\n",
    "movie_2['release'] = pd.to_datetime(movie_2['release'], errors = 'coerce')\n",
    "movie_2['release'] = pd.DatetimeIndex(movie_2['release']).year\n",
    "movie_2 = movie_2[movie_2['release'].notna()]\n",
    "movie_2['release'] = movie_2['release'].astype(int)\n",
    "movie_2['decade'] = (movie_2['release']//10)*10\n",
    "\n",
    "decades = np.arange(1940,2001,10)\n",
    "sample = []\n",
    "for decade in decades:\n",
    "    char_movie = charadata_2[charadata_2['decade'] == decade]\n",
    "    sample = np.append(sample, rng.choice(char_movie.wiki_id.unique(), size=500, replace = False))\n",
    "\n",
    "\n",
    "movie_2 = movie_2[movie_2[\"wiki_id\"].isin(sample)]\n",
    "charadata_2 = charadata_2[charadata_2[\"wiki_id\"].isin(sample)]\n",
    "\n",
    "charadata_2 = charadata_2.set_index('wiki_id')\n",
    "movie_2 = movie_2.set_index('wiki_id')\n",
    "\n",
    "movie_2 = movie_2.assign(agent_woman = lambda x : 0)\n",
    "movie_2 = movie_2.assign(patient_woman = lambda x : 0)\n",
    "movie_2 = movie_2.assign(attributes_woman = lambda x : 0)\n",
    "movie_2 = movie_2.assign(agent_man = lambda x : 0)\n",
    "movie_2 = movie_2.assign(patient_man = lambda x : 0)\n",
    "movie_2 = movie_2.assign(attributes_man = lambda x : 0)\n",
    "\n",
    "\n",
    "charadata_2 = charadata_2.assign(agent = lambda x : 0)\n",
    "charadata_2 = charadata_2.assign(patient = lambda x : 0)\n",
    "charadata_2 = charadata_2.assign(attributes = lambda x : 0)"
   ]
  },
  {
   "cell_type": "code",
   "execution_count": 62,
   "metadata": {},
   "outputs": [],
   "source": [
    "# The function returns a list of the text found by the CoreNLP parser \n",
    "# for either the governor or dependent element of agent and patient verbs and attributes\n",
    "# Input : BeautifulSoup element on which to perform the extraction, the list of types of elements to search, \n",
    "#         string to indicate either to search for governor or dependent element of the tuples extracted by the pipeline \n",
    "\n",
    "def extract_dep_gov(soup, list, type):\n",
    "\n",
    "    list_valid_type = ('governor', 'dependent')\n",
    "    if type not in list_valid_type:\n",
    "        raise ValueError(\"Wrong syntactic type, either: governor, dependent\")\n",
    "\n",
    "    role_type = []\n",
    "\n",
    "    # get the text for one element of the tuples extracted by the parser depending of the list of elements extract\n",
    "\n",
    "    if \"prep_\" in list:\n",
    "        role_type += [a.find(type).get_text() for a in soup.find_all('dep', type = lambda value: value and value.startswith('prep_'))]\n",
    "        list.remove('prep_')    \n",
    "    role_type += [[a.find(type).get_text() for a in soup.find_all('dep', {'type': str(ele)})] for ele in list]\n",
    "    role_type = [re.sub(r\"[^a-zA-Z0-9]\",\"\",str(i)) for i in role_type]  # filter out non alphabetical or numerical characters found\n",
    "\n",
    "    return role_type\n",
    "\n",
    "#######\n",
    "\n",
    "# The function counts the number of time a male or female character has been mentioned in the plot \n",
    "# Input: takes list to find character's name occurences from tuple produced by CoreNLP parser, the wiki_id of the movie,\n",
    "#        dataframes of the movies' data and the characters' data,and string for the role type (i.e. agent, patient, attributes)\n",
    "\n",
    "def count_chara_NLP(list_name_parser, movie_id, movie_data, character_data, charadata_2, type):\n",
    "\n",
    "    list_valid_type = (\"patient\", \"agent\", \"attributes\")\n",
    "    if type not in list_valid_type:\n",
    "        raise ValueError(\"Wrong role type, either: patient, agent, attributes\")\n",
    "        \n",
    "    # For every element extracted from the tuples of the CoreNLP pipeline, add count in the data of the corresponding movie\n",
    "    for elem in list_name_parser:\n",
    "        for index, chara in enumerate(character_data['character_name']):\n",
    "            name_split = chara.split()\n",
    "            for name_sep in name_split:\n",
    "                if elem == name_sep: # if name_sep.casefold() in map(str.casefold, list_name_parser):\n",
    "                    # Count number of words associated to women or men depending of the role type analyzed\n",
    "                    charadata_2.loc[charadata_2['character_name'] == chara, type] += 1\n",
    "                    # gender = ''.join(character_data.iloc[index]['actor_gender'].split())\n",
    "                    if ('M' in character_data.iloc[index]['actor_gender']):\n",
    "                        movie_data.loc[movie_id, str(type + '_man')] += 1\n",
    "                    elif ('F' in character_data.iloc[index]['actor_gender']):\n",
    "                        movie_data.loc[movie_id, str(type + '_woman')] += 1"
   ]
  },
  {
   "cell_type": "code",
   "execution_count": 64,
   "metadata": {},
   "outputs": [],
   "source": [
    "for movie_id in movie_2.index :\n",
    "    with gzip.open(NLP_FOLDER + str(movie_id) +'.xml.gz', 'r') as f:\n",
    "        data = f.read()\n",
    "    cc_processed = SoupStrainer(\"collapsed-ccprocessed-dependencies\")\n",
    "    soup = BeautifulSoup(data, \"xml\", parse_only=cc_processed)\n",
    "   \n",
    "\n",
    "    agent_dependent = [a.find('dependent').get_text() for a in soup.find_all('dep',{'type':'nsubj'})]\n",
    "    agent_dependent += [a.find('dependent').get_text() for a in soup.find_all('dep',{'type':'agent'})]\n",
    "    agent_dependent = [re.sub(r\"[^a-zA-Z0-9]\",\"\",i) for i in agent_dependent]\n",
    "\n",
    "\n",
    "    patient_dependent = [a.find('dependent').get_text() for a in soup.find_all('dep',{'type':'dobj'})]\n",
    "    patient_dependent += [a.find('dependent').get_text() for a in soup.find_all('dep',{'type':'nsubjpass'})]\n",
    "    patient_dependent += [a.find('dependent').get_text() for a in soup.find_all('dep',{'type':'iobj'})]\n",
    "    patient_dependent += [a.find('dependent').get_text() for a in soup.find_all('dep', type = lambda value: value and value.startswith('prep_'))]\n",
    "    patient_dependent = [re.sub(r\"[^a-zA-Z0-9]\",\"\",i) for i in patient_dependent]\n",
    "\n",
    "    attributes_dependent = [a.find('governor').get_text() for a in soup.find_all('dep',{'type':'nsubj'})]\n",
    "    attributes_dependent += [a.find('governor').get_text() for a in soup.find_all('dep',{'type':'appos'})]\n",
    "    attributes_dependent += [a.find('dependent').get_text() for a in soup.find_all('dep',{'type':'nsubj'})]\n",
    "    attributes_dependent += [a.find('dependent').get_text() for a in soup.find_all('dep',{'type':'appos'})]\n",
    "    attributes_dependent += [a.find('dependent').get_text() for a in soup.find_all('dep',{'type':'amod'})]\n",
    "    attributes_dependent += [a.find('dependent').get_text() for a in soup.find_all('dep',{'type':'nn'})]\n",
    "    attributes_dependent = [re.sub(r\"[^a-zA-Z0-9]\",\"\",i) for i in attributes_dependent]\n",
    "\n",
    "    movie_chara = charadata_2[charadata_2.index == movie_id][['character_name','actor_gender']].reset_index().copy()\n",
    "    movie_chara = movie_chara[~movie_chara.isnull().any(axis=1)]\n",
    "\n",
    "    count_chara_NLP(agent_dependent, movie_id, movie_2, movie_chara, charadata_2, \"agent\")\n",
    "    count_chara_NLP(patient_dependent, movie_id, movie_2, movie_chara, charadata_2, \"patient\")\n",
    "    count_chara_NLP(attributes_dependent, movie_id, movie_2, movie_chara, charadata_2, \"attributes\")"
   ]
  },
  {
   "cell_type": "code",
   "execution_count": 66,
   "metadata": {},
   "outputs": [],
   "source": [
    "#convert to csv\n",
    "movie_2.to_csv('movie_langage_data.csv')"
   ]
  },
  {
   "cell_type": "code",
   "execution_count": 69,
   "metadata": {},
   "outputs": [
    {
     "data": {
      "image/png": "[encoded data removed]",
      "text/plain": [
       "<Figure size 1000x700 with 1 Axes>"
      ]
     },
     "metadata": {},
     "output_type": "display_data"
    }
   ],
   "source": [
    "width = 3\n",
    "\n",
    "movie_2_grp = movie_2.groupby(['decade'])\n",
    "agent_mean = movie_2_grp.apply(lambda x : (x['agent_woman']/(x['agent_man'] + x['agent_woman'])).mean())\n",
    "agent_std = movie_2_grp.apply(lambda x : (x['agent_woman']/(x['agent_man'] + x['agent_woman'])).std())\n",
    "patient_mean = movie_2_grp.apply(lambda x : (x['patient_woman']/(x['patient_man'] + x['patient_woman'])).mean())\n",
    "patient_std = movie_2_grp.apply(lambda x : (x['patient_woman']/(x['patient_man'] + x['patient_woman'])).std())\n",
    "attributes_mean = movie_2_grp.apply(lambda x : (x['attributes_woman']/(x['attributes_man'] + x['attributes_woman'])).mean())\n",
    "attributes_std = movie_2_grp.apply(lambda x : (x['attributes_woman']/(x['attributes_man'] + x['attributes_woman'])).std())\n",
    "\n",
    "plt.figure(figsize=(10, 7))\n",
    "\n",
    "plt.bar(agent_mean.index, agent_mean,width/1.5, yerr = agent_std,label='agent', color = 'blue')\n",
    "plt.bar(patient_mean.index - width/1.25, patient_mean,width/1.5, yerr = patient_std,  label='patient', color = 'red')\n",
    "plt.bar(attributes_mean.index + width/1.25, attributes_mean,width/1.5, yerr = attributes_std,  label='attributes', color = 'green')\n",
    "\n",
    "\n",
    "plt.legend(loc = 'upper left')\n",
    "plt.title('Evolution of the proportion of words for women in function of the category and the decade')\n",
    "plt.xlabel('Decade')\n",
    "plt.ylabel('Proportion of words for women')\n",
    "plt.show()"
   ]
  },
  {
   "cell_type": "code",
   "execution_count": 68,
   "metadata": {},
   "outputs": [
    {
     "data": {
      "image/png": "[encoded data removed]",
      "text/plain": [
       "<Figure size 500x1100 with 3 Axes>"
      ]
     },
     "metadata": {},
     "output_type": "display_data"
    }
   ],
   "source": [
    "#Plot the average number of men vs women for each genre separated by decade\n",
    "width = 3\n",
    "movie_2_grp = movie_2.groupby(['decade'])\n",
    "agent_nb_men = movie_2_grp['agent_man']\n",
    "agent_nb_women = movie_2_grp['agent_woman']\n",
    "patient_nb_men = movie_2_grp['patient_man']\n",
    "patient_nb_women = movie_2_grp['patient_woman']\n",
    "attributes_nb_men = movie_2_grp['attributes_man']\n",
    "attributes_nb_women = movie_2_grp['attributes_woman']\n",
    "\n",
    "fig, (ax0, ax1, ax2) = plt.subplots(nrows=3,figsize=(5, 11), sharex = True, sharey = False)\n",
    "\n",
    "ax0.bar(movie_2['decade'].unique() + width/2, agent_nb_men.mean(),width, yerr = agent_nb_men.std(),label='Men', color = 'blue')\n",
    "ax0.bar(movie_2['decade'].unique() - width/2, agent_nb_women.mean(),width, yerr = agent_nb_women.std(),  label='Women', color = 'red')\n",
    "ax1.bar(movie_2['decade'].unique() + width/2, patient_nb_men.mean(),width, yerr = patient_nb_men.std(),label='Men', color = 'blue')\n",
    "ax1.bar(movie_2['decade'].unique() - width/2, patient_nb_women.mean(),width, yerr = patient_nb_women.std(),  label='Women', color = 'red')\n",
    "ax2.bar(movie_2['decade'].unique() + width/2, attributes_nb_men.mean(),width, yerr = attributes_nb_men.std(),label='Men', color = 'blue')\n",
    "ax2.bar(movie_2['decade'].unique() - width/2, attributes_nb_women.mean(),width, yerr = attributes_nb_women.std(),  label='Women', color = 'red')\n",
    "\n",
    "ax0.set_title('Agent verbs')\n",
    "ax1.set_title('Patient vers')\n",
    "ax2.set_title('Attributes')\n",
    "\n",
    "ax0.set_ylabel('Average number')\n",
    "ax1.set_ylabel('Average number')\n",
    "ax2.set_ylabel('Average number')\n",
    "\n",
    "ax2.legend(loc='upper left')\n",
    "\n",
    "fig.suptitle('Number of male vs female words separated by word category and decade')\n",
    "fig.subplots_adjust(top=0.92)"
   ]
  },
  {
   "cell_type": "code",
   "execution_count": null,
   "metadata": {},
   "outputs": [
    {
     "data": {
      "text/plain": [
       "\"import scipy.stats\\ndoi = 2000\\nprint(scipy.stats.ttest_ind(movie_2.loc[movie_2['decade'] == doi]['agent_woman'],movie_2.loc[movie_2['decade'] == doi]['agent_man'],alternative='less'))\\nprint(scipy.stats.ttest_ind(movie_2.loc[movie_2['decade'] == doi]['patient_woman'],movie_2.loc[movie_2['decade'] == doi]['patient_man'],alternative='less'))\\nprint(scipy.stats.ttest_ind(movie_2.loc[movie_2['decade'] == doi]['attributes_woman'],movie_2.loc[movie_2['decade'] == doi]['attributes_man'],alternative = 'less'))\\n\""
      ]
     },
     "execution_count": 53,
     "metadata": {},
     "output_type": "execute_result"
    }
   ],
   "source": [
    "\"\"\"import scipy.stats\n",
    "doi = 2000\n",
    "print(scipy.stats.ttest_ind(movie_2.loc[movie_2['decade'] == doi]['agent_woman'],movie_2.loc[movie_2['decade'] == doi]['agent_man'],alternative='less'))\n",
    "print(scipy.stats.ttest_ind(movie_2.loc[movie_2['decade'] == doi]['patient_woman'],movie_2.loc[movie_2['decade'] == doi]['patient_man'],alternative='less'))\n",
    "print(scipy.stats.ttest_ind(movie_2.loc[movie_2['decade'] == doi]['attributes_woman'],movie_2.loc[movie_2['decade'] == doi]['attributes_man'],alternative = 'less'))\n",
    "\"\"\""
   ]
  }
 ],
 "metadata": {
  "kernelspec": {
   "display_name": "Python 3.9.13 ('ada')",
   "language": "python",
   "name": "python3"
  },
  "language_info": {
   "codemirror_mode": {
    "name": "ipython",
    "version": 3
   },
   "file_extension": ".py",
   "mimetype": "text/x-python",
   "name": "python",
   "nbconvert_exporter": "python",
   "pygments_lexer": "ipython3",
   "version": "3.9.13"
  },
  "orig_nbformat": 4,
  "vscode": {
   "interpreter": {
    "hash": "3e5f6e72b139eca9ac2527b49c157231314cc6365ed663ebabee9fc01fa2bd4b"
   }
  }
 },
 "nbformat": 4,
 "nbformat_minor": 2
}
