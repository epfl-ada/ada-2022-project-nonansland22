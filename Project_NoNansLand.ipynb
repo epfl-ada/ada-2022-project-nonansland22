{
 "cells": [
  {
   "cell_type": "code",
   "execution_count": 1,
   "metadata": {},
   "outputs": [
    {
     "data": {
      "text/plain": [
       "'\\nFile name: Project.ipynb\\nAuthor: Paul de Fontenay, Arnault Monoyer, Jules Orsat and Matthieu Sayar\\nDate created: 01/11/2022\\nDate last modified: 03/11/2022\\nLast modification by: Matthieu Sayar\\nPython Version: 3.9.13\\n'"
      ]
     },
     "execution_count": 1,
     "metadata": {},
     "output_type": "execute_result"
    }
   ],
   "source": [
    "'''\n",
    "File name: Project.ipynb\n",
    "Author: Paul de Fontenay, Arnault Monoyer, Jules Orsat and Matthieu Sayar\n",
    "Date created: 01/11/2022\n",
    "Date last modified: 03/11/2022\n",
    "Last modification by: Matthieu Sayar\n",
    "Python Version: 3.9.13\n",
    "'''"
   ]
  },
  {
   "cell_type": "code",
   "execution_count": 2,
   "metadata": {},
   "outputs": [],
   "source": [
    "import pandas as pd\n",
    "import matplotlib.pyplot as plt\n",
    "\n",
    "DATA_FOLDER = 'MovieSummaries/'"
   ]
  },
  {
   "cell_type": "code",
   "execution_count": 3,
   "metadata": {},
   "outputs": [],
   "source": [
    "moviedata = pd.read_csv(DATA_FOLDER + 'movie.metadata.tsv', sep = '\\t', index_col='wiki_id' , header=None, names=('wiki_id','freebase_id','movie_name','release','revenue','runtime','languages','countries','genres'))\n",
    "charadata = pd.read_csv(DATA_FOLDER + 'character.metadata.tsv', sep = '\\t', header=None, names=('wiki_id','freebase_id','release','character_name','actor_dob','actor_gender','actor_height','actor_ethnicity','actor_name','actor_age','freebase_chara_map','1','2'))\n",
    "plots =  pd.read_csv(DATA_FOLDER + 'plot_summaries.txt', sep = '\\t', header=None, names=('wiki_id','plot'))"
   ]
  },
  {
   "cell_type": "code",
   "execution_count": 4,
   "metadata": {},
   "outputs": [],
   "source": [
    "charadata.set_index('wiki_id',inplace=True)\n",
    "plots.set_index('wiki_id',inplace=True)"
   ]
  },
  {
   "cell_type": "markdown",
   "metadata": {},
   "source": [
    "### Movie data analysis"
   ]
  },
  {
   "cell_type": "code",
   "execution_count": 5,
   "metadata": {},
   "outputs": [],
   "source": [
    "indexes = moviedata.index.intersection(charadata.index)\n",
    "indexes = plots.index.intersection(indexes)\n",
    "\n",
    "moviedata_filtered = moviedata.loc[indexes]\n",
    "charadata_filtered = charadata.loc[indexes]\n",
    "plots_filtered = plots.loc[indexes]"
   ]
  },
  {
   "cell_type": "code",
   "execution_count": 6,
   "metadata": {},
   "outputs": [
    {
     "name": "stdout",
     "output_type": "stream",
     "text": [
      "81741 37779\n",
      "450669 308485\n",
      "42303 37779\n"
     ]
    }
   ],
   "source": [
    "print(len(moviedata),len(moviedata_filtered))\n",
    "print(len(charadata),len(charadata_filtered))\n",
    "print(len(plots),len(plots_filtered))"
   ]
  },
  {
   "cell_type": "code",
   "execution_count": 7,
   "metadata": {},
   "outputs": [
    {
     "data": {
      "text/plain": [
       "freebase_id        0\n",
       "movie_name         0\n",
       "release         1757\n",
       "revenue        30283\n",
       "runtime         5209\n",
       "languages          0\n",
       "countries          0\n",
       "genres             0\n",
       "dtype: int64"
      ]
     },
     "execution_count": 7,
     "metadata": {},
     "output_type": "execute_result"
    }
   ],
   "source": [
    "moviedata_filtered.isna().sum()"
   ]
  },
  {
   "cell_type": "code",
   "execution_count": 8,
   "metadata": {},
   "outputs": [
    {
     "data": {
      "text/plain": [
       "\"moviedata_filtered['release'] = moviedata_filtered['release'].apply(lambda x: charadata_filtered.loc[x.index]['release'] if (x is None) else x)\\nmoviedata_filtered.isna().sum()\""
      ]
     },
     "execution_count": 8,
     "metadata": {},
     "output_type": "execute_result"
    }
   ],
   "source": [
    "\"\"\"moviedata_filtered['release'] = moviedata_filtered['release'].apply(lambda x: charadata_filtered.loc[x.index]['release'] if (x is None) else x)\n",
    "moviedata_filtered.isna().sum()\"\"\""
   ]
  },
  {
   "cell_type": "code",
   "execution_count": 9,
   "metadata": {},
   "outputs": [],
   "source": [
    "moviedata_filtered.loc[:,'genres'] = moviedata_filtered['genres'].apply(lambda x : x.replace(':', ','))\n",
    "\n",
    "moviedata_filtered['genres'] = moviedata_filtered['genres'].apply(eval)\n",
    "moviedata_filtered['genres'] = moviedata_filtered['genres'].apply(lambda x: list(x))\n",
    "moviedata_filtered['genres'] = moviedata_filtered['genres'].apply(lambda y: list(filter(lambda x: not x.startswith('/m'), y)))"
   ]
  },
  {
   "cell_type": "code",
   "execution_count": 10,
   "metadata": {},
   "outputs": [],
   "source": [
    "def to_1D(series):\n",
    "    return pd.Series([x for _list in series for x in _list])"
   ]
  },
  {
   "cell_type": "code",
   "execution_count": 11,
   "metadata": {},
   "outputs": [
    {
     "data": {
      "text/plain": [
       "<AxesSubplot:>"
      ]
     },
     "execution_count": 11,
     "metadata": {},
     "output_type": "execute_result"
    },
    {
     "data": {
      "image/png": "[encoded data removed]",
      "text/plain": [
       "<Figure size 432x288 with 1 Axes>"
      ]
     },
     "metadata": {
      "needs_background": "light"
     },
     "output_type": "display_data"
    }
   ],
   "source": [
    "a = to_1D(moviedata_filtered['genres']).value_counts()\n",
    "\n",
    "a = a[a>1000]\n",
    "\n",
    "a.plot(kind='bar')"
   ]
  },
  {
   "cell_type": "code",
   "execution_count": 12,
   "metadata": {},
   "outputs": [],
   "source": [
    "selected_genres = ['Comedy','Action','Horror']\n",
    "\n",
    "for genre in selected_genres:\n",
    "    moviedata_filtered[genre] = moviedata_filtered['genres'].apply(lambda x: 1 if genre in x else 0)\n",
    "\n",
    "moviedata_filtered['unique_genre'] = moviedata_filtered.loc[:,selected_genres].sum(axis = 1)"
   ]
  },
  {
   "cell_type": "code",
   "execution_count": 13,
   "metadata": {},
   "outputs": [],
   "source": [
    "unique_genre = moviedata_filtered.drop(moviedata_filtered[moviedata_filtered['unique_genre'] != 1].index)"
   ]
  },
  {
   "cell_type": "code",
   "execution_count": 14,
   "metadata": {},
   "outputs": [
    {
     "data": {
      "text/plain": [
       "<AxesSubplot:>"
      ]
     },
     "execution_count": 14,
     "metadata": {},
     "output_type": "execute_result"
    },
    {
     "data": {
      "image/png": "[encoded data removed]",
      "text/plain": [
       "<Figure size 432x288 with 1 Axes>"
      ]
     },
     "metadata": {
      "needs_background": "light"
     },
     "output_type": "display_data"
    }
   ],
   "source": [
    "a = to_1D(unique_genre['genres']).value_counts()\n",
    "\n",
    "a = a[a>1000]\n",
    "\n",
    "a.plot(kind='bar')"
   ]
  },
  {
   "cell_type": "code",
   "execution_count": 15,
   "metadata": {},
   "outputs": [
    {
     "data": {
      "text/html": [
       "<div>\n",
       "<style scoped>\n",
       "    .dataframe tbody tr th:only-of-type {\n",
       "        vertical-align: middle;\n",
       "    }\n",
       "\n",
       "    .dataframe tbody tr th {\n",
       "        vertical-align: top;\n",
       "    }\n",
       "\n",
       "    .dataframe thead th {\n",
       "        text-align: right;\n",
       "    }\n",
       "</style>\n",
       "<table border=\"1\" class=\"dataframe\">\n",
       "  <thead>\n",
       "    <tr style=\"text-align: right;\">\n",
       "      <th></th>\n",
       "      <th>freebase_id</th>\n",
       "      <th>movie_name</th>\n",
       "      <th>release</th>\n",
       "      <th>revenue</th>\n",
       "      <th>runtime</th>\n",
       "      <th>languages</th>\n",
       "      <th>countries</th>\n",
       "      <th>genres</th>\n",
       "      <th>Comedy</th>\n",
       "      <th>Action</th>\n",
       "      <th>Horror</th>\n",
       "      <th>unique_genre</th>\n",
       "    </tr>\n",
       "    <tr>\n",
       "      <th>wiki_id</th>\n",
       "      <th></th>\n",
       "      <th></th>\n",
       "      <th></th>\n",
       "      <th></th>\n",
       "      <th></th>\n",
       "      <th></th>\n",
       "      <th></th>\n",
       "      <th></th>\n",
       "      <th></th>\n",
       "      <th></th>\n",
       "      <th></th>\n",
       "      <th></th>\n",
       "    </tr>\n",
       "  </thead>\n",
       "  <tbody>\n",
       "    <tr>\n",
       "      <th>31186339</th>\n",
       "      <td>/m/0gkz15s</td>\n",
       "      <td>The Hunger Games</td>\n",
       "      <td>2012-03-12</td>\n",
       "      <td>686533290.0</td>\n",
       "      <td>142.0</td>\n",
       "      <td>{\"/m/02h40lc\": \"English Language\"}</td>\n",
       "      <td>{\"/m/09c7w0\": \"United States of America\"}</td>\n",
       "      <td>[Drama, Action, Science Fiction, Action/Advent...</td>\n",
       "      <td>0</td>\n",
       "      <td>1</td>\n",
       "      <td>0</td>\n",
       "      <td>1</td>\n",
       "    </tr>\n",
       "    <tr>\n",
       "      <th>20663735</th>\n",
       "      <td>/m/051zjwb</td>\n",
       "      <td>Narasimham</td>\n",
       "      <td>2000</td>\n",
       "      <td>NaN</td>\n",
       "      <td>175.0</td>\n",
       "      <td>{\"/m/0999q\": \"Malayalam Language\"}</td>\n",
       "      <td>{\"/m/03rk0\": \"India\"}</td>\n",
       "      <td>[Drama, Bollywood, Action, Musical]</td>\n",
       "      <td>0</td>\n",
       "      <td>1</td>\n",
       "      <td>0</td>\n",
       "      <td>1</td>\n",
       "    </tr>\n",
       "    <tr>\n",
       "      <th>2231378</th>\n",
       "      <td>/m/06xtz3</td>\n",
       "      <td>The Lemon Drop Kid</td>\n",
       "      <td>1951-03-08</td>\n",
       "      <td>2300000.0</td>\n",
       "      <td>91.0</td>\n",
       "      <td>{\"/m/02h40lc\": \"English Language\"}</td>\n",
       "      <td>{\"/m/09c7w0\": \"United States of America\"}</td>\n",
       "      <td>[Comedy, Screwball comedy]</td>\n",
       "      <td>1</td>\n",
       "      <td>0</td>\n",
       "      <td>0</td>\n",
       "      <td>1</td>\n",
       "    </tr>\n",
       "    <tr>\n",
       "      <th>5272176</th>\n",
       "      <td>/m/0dbxtv</td>\n",
       "      <td>End Game</td>\n",
       "      <td>2006</td>\n",
       "      <td>NaN</td>\n",
       "      <td>93.0</td>\n",
       "      <td>{\"/m/02h40lc\": \"English Language\"}</td>\n",
       "      <td>{\"/m/09c7w0\": \"United States of America\", \"/m/...</td>\n",
       "      <td>[Drama, Action, Thriller, Action/Adventure]</td>\n",
       "      <td>0</td>\n",
       "      <td>1</td>\n",
       "      <td>0</td>\n",
       "      <td>1</td>\n",
       "    </tr>\n",
       "    <tr>\n",
       "      <th>1952976</th>\n",
       "      <td>/m/068jvg</td>\n",
       "      <td>Dark Water</td>\n",
       "      <td>2005-06-27</td>\n",
       "      <td>49483352.0</td>\n",
       "      <td>105.0</td>\n",
       "      <td>{\"/m/02h40lc\": \"English Language\"}</td>\n",
       "      <td>{\"/m/09c7w0\": \"United States of America\"}</td>\n",
       "      <td>[Drama, Thriller, Horror]</td>\n",
       "      <td>0</td>\n",
       "      <td>0</td>\n",
       "      <td>1</td>\n",
       "      <td>1</td>\n",
       "    </tr>\n",
       "  </tbody>\n",
       "</table>\n",
       "</div>"
      ],
      "text/plain": [
       "         freebase_id          movie_name     release      revenue  runtime  \\\n",
       "wiki_id                                                                      \n",
       "31186339  /m/0gkz15s    The Hunger Games  2012-03-12  686533290.0    142.0   \n",
       "20663735  /m/051zjwb          Narasimham        2000          NaN    175.0   \n",
       "2231378    /m/06xtz3  The Lemon Drop Kid  1951-03-08    2300000.0     91.0   \n",
       "5272176    /m/0dbxtv            End Game        2006          NaN     93.0   \n",
       "1952976    /m/068jvg          Dark Water  2005-06-27   49483352.0    105.0   \n",
       "\n",
       "                                   languages  \\\n",
       "wiki_id                                        \n",
       "31186339  {\"/m/02h40lc\": \"English Language\"}   \n",
       "20663735  {\"/m/0999q\": \"Malayalam Language\"}   \n",
       "2231378   {\"/m/02h40lc\": \"English Language\"}   \n",
       "5272176   {\"/m/02h40lc\": \"English Language\"}   \n",
       "1952976   {\"/m/02h40lc\": \"English Language\"}   \n",
       "\n",
       "                                                  countries  \\\n",
       "wiki_id                                                       \n",
       "31186339          {\"/m/09c7w0\": \"United States of America\"}   \n",
       "20663735                              {\"/m/03rk0\": \"India\"}   \n",
       "2231378           {\"/m/09c7w0\": \"United States of America\"}   \n",
       "5272176   {\"/m/09c7w0\": \"United States of America\", \"/m/...   \n",
       "1952976           {\"/m/09c7w0\": \"United States of America\"}   \n",
       "\n",
       "                                                     genres  Comedy  Action  \\\n",
       "wiki_id                                                                       \n",
       "31186339  [Drama, Action, Science Fiction, Action/Advent...       0       1   \n",
       "20663735                [Drama, Bollywood, Action, Musical]       0       1   \n",
       "2231378                          [Comedy, Screwball comedy]       1       0   \n",
       "5272176         [Drama, Action, Thriller, Action/Adventure]       0       1   \n",
       "1952976                           [Drama, Thriller, Horror]       0       0   \n",
       "\n",
       "          Horror  unique_genre  \n",
       "wiki_id                         \n",
       "31186339       0             1  \n",
       "20663735       0             1  \n",
       "2231378        0             1  \n",
       "5272176        0             1  \n",
       "1952976        1             1  "
      ]
     },
     "execution_count": 15,
     "metadata": {},
     "output_type": "execute_result"
    }
   ],
   "source": [
    "unique_genre.head()"
   ]
  },
  {
   "cell_type": "code",
   "execution_count": 16,
   "metadata": {},
   "outputs": [],
   "source": [
    "for genre in selected_genres:\n",
    "    unique_genre['genres'] = unique_genre['genres'].apply(lambda x: genre if genre in x else x)"
   ]
  },
  {
   "cell_type": "code",
   "execution_count": 17,
   "metadata": {},
   "outputs": [
    {
     "data": {
      "text/html": [
       "<div>\n",
       "<style scoped>\n",
       "    .dataframe tbody tr th:only-of-type {\n",
       "        vertical-align: middle;\n",
       "    }\n",
       "\n",
       "    .dataframe tbody tr th {\n",
       "        vertical-align: top;\n",
       "    }\n",
       "\n",
       "    .dataframe thead th {\n",
       "        text-align: right;\n",
       "    }\n",
       "</style>\n",
       "<table border=\"1\" class=\"dataframe\">\n",
       "  <thead>\n",
       "    <tr style=\"text-align: right;\">\n",
       "      <th></th>\n",
       "      <th>freebase_id</th>\n",
       "      <th>movie_name</th>\n",
       "      <th>release</th>\n",
       "      <th>revenue</th>\n",
       "      <th>runtime</th>\n",
       "      <th>languages</th>\n",
       "      <th>countries</th>\n",
       "      <th>genres</th>\n",
       "      <th>Comedy</th>\n",
       "      <th>Action</th>\n",
       "      <th>Horror</th>\n",
       "      <th>unique_genre</th>\n",
       "    </tr>\n",
       "    <tr>\n",
       "      <th>wiki_id</th>\n",
       "      <th></th>\n",
       "      <th></th>\n",
       "      <th></th>\n",
       "      <th></th>\n",
       "      <th></th>\n",
       "      <th></th>\n",
       "      <th></th>\n",
       "      <th></th>\n",
       "      <th></th>\n",
       "      <th></th>\n",
       "      <th></th>\n",
       "      <th></th>\n",
       "    </tr>\n",
       "  </thead>\n",
       "  <tbody>\n",
       "    <tr>\n",
       "      <th>31186339</th>\n",
       "      <td>/m/0gkz15s</td>\n",
       "      <td>The Hunger Games</td>\n",
       "      <td>2012-03-12</td>\n",
       "      <td>686533290.0</td>\n",
       "      <td>142.0</td>\n",
       "      <td>{\"/m/02h40lc\": \"English Language\"}</td>\n",
       "      <td>{\"/m/09c7w0\": \"United States of America\"}</td>\n",
       "      <td>Action</td>\n",
       "      <td>0</td>\n",
       "      <td>1</td>\n",
       "      <td>0</td>\n",
       "      <td>1</td>\n",
       "    </tr>\n",
       "    <tr>\n",
       "      <th>20663735</th>\n",
       "      <td>/m/051zjwb</td>\n",
       "      <td>Narasimham</td>\n",
       "      <td>2000</td>\n",
       "      <td>NaN</td>\n",
       "      <td>175.0</td>\n",
       "      <td>{\"/m/0999q\": \"Malayalam Language\"}</td>\n",
       "      <td>{\"/m/03rk0\": \"India\"}</td>\n",
       "      <td>Action</td>\n",
       "      <td>0</td>\n",
       "      <td>1</td>\n",
       "      <td>0</td>\n",
       "      <td>1</td>\n",
       "    </tr>\n",
       "    <tr>\n",
       "      <th>2231378</th>\n",
       "      <td>/m/06xtz3</td>\n",
       "      <td>The Lemon Drop Kid</td>\n",
       "      <td>1951-03-08</td>\n",
       "      <td>2300000.0</td>\n",
       "      <td>91.0</td>\n",
       "      <td>{\"/m/02h40lc\": \"English Language\"}</td>\n",
       "      <td>{\"/m/09c7w0\": \"United States of America\"}</td>\n",
       "      <td>Comedy</td>\n",
       "      <td>1</td>\n",
       "      <td>0</td>\n",
       "      <td>0</td>\n",
       "      <td>1</td>\n",
       "    </tr>\n",
       "    <tr>\n",
       "      <th>5272176</th>\n",
       "      <td>/m/0dbxtv</td>\n",
       "      <td>End Game</td>\n",
       "      <td>2006</td>\n",
       "      <td>NaN</td>\n",
       "      <td>93.0</td>\n",
       "      <td>{\"/m/02h40lc\": \"English Language\"}</td>\n",
       "      <td>{\"/m/09c7w0\": \"United States of America\", \"/m/...</td>\n",
       "      <td>Action</td>\n",
       "      <td>0</td>\n",
       "      <td>1</td>\n",
       "      <td>0</td>\n",
       "      <td>1</td>\n",
       "    </tr>\n",
       "    <tr>\n",
       "      <th>1952976</th>\n",
       "      <td>/m/068jvg</td>\n",
       "      <td>Dark Water</td>\n",
       "      <td>2005-06-27</td>\n",
       "      <td>49483352.0</td>\n",
       "      <td>105.0</td>\n",
       "      <td>{\"/m/02h40lc\": \"English Language\"}</td>\n",
       "      <td>{\"/m/09c7w0\": \"United States of America\"}</td>\n",
       "      <td>Horror</td>\n",
       "      <td>0</td>\n",
       "      <td>0</td>\n",
       "      <td>1</td>\n",
       "      <td>1</td>\n",
       "    </tr>\n",
       "  </tbody>\n",
       "</table>\n",
       "</div>"
      ],
      "text/plain": [
       "         freebase_id          movie_name     release      revenue  runtime  \\\n",
       "wiki_id                                                                      \n",
       "31186339  /m/0gkz15s    The Hunger Games  2012-03-12  686533290.0    142.0   \n",
       "20663735  /m/051zjwb          Narasimham        2000          NaN    175.0   \n",
       "2231378    /m/06xtz3  The Lemon Drop Kid  1951-03-08    2300000.0     91.0   \n",
       "5272176    /m/0dbxtv            End Game        2006          NaN     93.0   \n",
       "1952976    /m/068jvg          Dark Water  2005-06-27   49483352.0    105.0   \n",
       "\n",
       "                                   languages  \\\n",
       "wiki_id                                        \n",
       "31186339  {\"/m/02h40lc\": \"English Language\"}   \n",
       "20663735  {\"/m/0999q\": \"Malayalam Language\"}   \n",
       "2231378   {\"/m/02h40lc\": \"English Language\"}   \n",
       "5272176   {\"/m/02h40lc\": \"English Language\"}   \n",
       "1952976   {\"/m/02h40lc\": \"English Language\"}   \n",
       "\n",
       "                                                  countries  genres  Comedy  \\\n",
       "wiki_id                                                                       \n",
       "31186339          {\"/m/09c7w0\": \"United States of America\"}  Action       0   \n",
       "20663735                              {\"/m/03rk0\": \"India\"}  Action       0   \n",
       "2231378           {\"/m/09c7w0\": \"United States of America\"}  Comedy       1   \n",
       "5272176   {\"/m/09c7w0\": \"United States of America\", \"/m/...  Action       0   \n",
       "1952976           {\"/m/09c7w0\": \"United States of America\"}  Horror       0   \n",
       "\n",
       "          Action  Horror  unique_genre  \n",
       "wiki_id                                 \n",
       "31186339       1       0             1  \n",
       "20663735       1       0             1  \n",
       "2231378        0       0             1  \n",
       "5272176        1       0             1  \n",
       "1952976        0       1             1  "
      ]
     },
     "execution_count": 17,
     "metadata": {},
     "output_type": "execute_result"
    }
   ],
   "source": [
    "unique_genre.head()"
   ]
  },
  {
   "cell_type": "code",
   "execution_count": 18,
   "metadata": {},
   "outputs": [],
   "source": [
    "unique_genre['release'] = pd.DatetimeIndex(unique_genre['release']).year\n",
    "unique_genre = unique_genre[unique_genre['release'].notna()]\n",
    "unique_genre['release'] = unique_genre['release'].astype(int)\n",
    "\n",
    "\n",
    "unique_genre['decade'] = (unique_genre['release']//10)*10\n",
    "unique_genre['year'] = unique_genre['release']%10\n"
   ]
  },
  {
   "cell_type": "code",
   "execution_count": 19,
   "metadata": {},
   "outputs": [
    {
     "data": {
      "text/html": [
       "<div>\n",
       "<style scoped>\n",
       "    .dataframe tbody tr th:only-of-type {\n",
       "        vertical-align: middle;\n",
       "    }\n",
       "\n",
       "    .dataframe tbody tr th {\n",
       "        vertical-align: top;\n",
       "    }\n",
       "\n",
       "    .dataframe thead th {\n",
       "        text-align: right;\n",
       "    }\n",
       "</style>\n",
       "<table border=\"1\" class=\"dataframe\">\n",
       "  <thead>\n",
       "    <tr style=\"text-align: right;\">\n",
       "      <th></th>\n",
       "      <th>freebase_id</th>\n",
       "      <th>movie_name</th>\n",
       "      <th>release</th>\n",
       "      <th>revenue</th>\n",
       "      <th>runtime</th>\n",
       "      <th>languages</th>\n",
       "      <th>countries</th>\n",
       "      <th>genres</th>\n",
       "      <th>Comedy</th>\n",
       "      <th>Action</th>\n",
       "      <th>Horror</th>\n",
       "      <th>unique_genre</th>\n",
       "      <th>decade</th>\n",
       "      <th>year</th>\n",
       "    </tr>\n",
       "    <tr>\n",
       "      <th>wiki_id</th>\n",
       "      <th></th>\n",
       "      <th></th>\n",
       "      <th></th>\n",
       "      <th></th>\n",
       "      <th></th>\n",
       "      <th></th>\n",
       "      <th></th>\n",
       "      <th></th>\n",
       "      <th></th>\n",
       "      <th></th>\n",
       "      <th></th>\n",
       "      <th></th>\n",
       "      <th></th>\n",
       "      <th></th>\n",
       "    </tr>\n",
       "  </thead>\n",
       "  <tbody>\n",
       "    <tr>\n",
       "      <th>31186339</th>\n",
       "      <td>/m/0gkz15s</td>\n",
       "      <td>The Hunger Games</td>\n",
       "      <td>2012</td>\n",
       "      <td>686533290.0</td>\n",
       "      <td>142.0</td>\n",
       "      <td>{\"/m/02h40lc\": \"English Language\"}</td>\n",
       "      <td>{\"/m/09c7w0\": \"United States of America\"}</td>\n",
       "      <td>Action</td>\n",
       "      <td>0</td>\n",
       "      <td>1</td>\n",
       "      <td>0</td>\n",
       "      <td>1</td>\n",
       "      <td>2010</td>\n",
       "      <td>2</td>\n",
       "    </tr>\n",
       "    <tr>\n",
       "      <th>20663735</th>\n",
       "      <td>/m/051zjwb</td>\n",
       "      <td>Narasimham</td>\n",
       "      <td>2000</td>\n",
       "      <td>NaN</td>\n",
       "      <td>175.0</td>\n",
       "      <td>{\"/m/0999q\": \"Malayalam Language\"}</td>\n",
       "      <td>{\"/m/03rk0\": \"India\"}</td>\n",
       "      <td>Action</td>\n",
       "      <td>0</td>\n",
       "      <td>1</td>\n",
       "      <td>0</td>\n",
       "      <td>1</td>\n",
       "      <td>2000</td>\n",
       "      <td>0</td>\n",
       "    </tr>\n",
       "    <tr>\n",
       "      <th>2231378</th>\n",
       "      <td>/m/06xtz3</td>\n",
       "      <td>The Lemon Drop Kid</td>\n",
       "      <td>1951</td>\n",
       "      <td>2300000.0</td>\n",
       "      <td>91.0</td>\n",
       "      <td>{\"/m/02h40lc\": \"English Language\"}</td>\n",
       "      <td>{\"/m/09c7w0\": \"United States of America\"}</td>\n",
       "      <td>Comedy</td>\n",
       "      <td>1</td>\n",
       "      <td>0</td>\n",
       "      <td>0</td>\n",
       "      <td>1</td>\n",
       "      <td>1950</td>\n",
       "      <td>1</td>\n",
       "    </tr>\n",
       "    <tr>\n",
       "      <th>5272176</th>\n",
       "      <td>/m/0dbxtv</td>\n",
       "      <td>End Game</td>\n",
       "      <td>2006</td>\n",
       "      <td>NaN</td>\n",
       "      <td>93.0</td>\n",
       "      <td>{\"/m/02h40lc\": \"English Language\"}</td>\n",
       "      <td>{\"/m/09c7w0\": \"United States of America\", \"/m/...</td>\n",
       "      <td>Action</td>\n",
       "      <td>0</td>\n",
       "      <td>1</td>\n",
       "      <td>0</td>\n",
       "      <td>1</td>\n",
       "      <td>2000</td>\n",
       "      <td>6</td>\n",
       "    </tr>\n",
       "    <tr>\n",
       "      <th>1952976</th>\n",
       "      <td>/m/068jvg</td>\n",
       "      <td>Dark Water</td>\n",
       "      <td>2005</td>\n",
       "      <td>49483352.0</td>\n",
       "      <td>105.0</td>\n",
       "      <td>{\"/m/02h40lc\": \"English Language\"}</td>\n",
       "      <td>{\"/m/09c7w0\": \"United States of America\"}</td>\n",
       "      <td>Horror</td>\n",
       "      <td>0</td>\n",
       "      <td>0</td>\n",
       "      <td>1</td>\n",
       "      <td>1</td>\n",
       "      <td>2000</td>\n",
       "      <td>5</td>\n",
       "    </tr>\n",
       "  </tbody>\n",
       "</table>\n",
       "</div>"
      ],
      "text/plain": [
       "         freebase_id          movie_name  release      revenue  runtime  \\\n",
       "wiki_id                                                                   \n",
       "31186339  /m/0gkz15s    The Hunger Games     2012  686533290.0    142.0   \n",
       "20663735  /m/051zjwb          Narasimham     2000          NaN    175.0   \n",
       "2231378    /m/06xtz3  The Lemon Drop Kid     1951    2300000.0     91.0   \n",
       "5272176    /m/0dbxtv            End Game     2006          NaN     93.0   \n",
       "1952976    /m/068jvg          Dark Water     2005   49483352.0    105.0   \n",
       "\n",
       "                                   languages  \\\n",
       "wiki_id                                        \n",
       "31186339  {\"/m/02h40lc\": \"English Language\"}   \n",
       "20663735  {\"/m/0999q\": \"Malayalam Language\"}   \n",
       "2231378   {\"/m/02h40lc\": \"English Language\"}   \n",
       "5272176   {\"/m/02h40lc\": \"English Language\"}   \n",
       "1952976   {\"/m/02h40lc\": \"English Language\"}   \n",
       "\n",
       "                                                  countries  genres  Comedy  \\\n",
       "wiki_id                                                                       \n",
       "31186339          {\"/m/09c7w0\": \"United States of America\"}  Action       0   \n",
       "20663735                              {\"/m/03rk0\": \"India\"}  Action       0   \n",
       "2231378           {\"/m/09c7w0\": \"United States of America\"}  Comedy       1   \n",
       "5272176   {\"/m/09c7w0\": \"United States of America\", \"/m/...  Action       0   \n",
       "1952976           {\"/m/09c7w0\": \"United States of America\"}  Horror       0   \n",
       "\n",
       "          Action  Horror  unique_genre  decade  year  \n",
       "wiki_id                                               \n",
       "31186339       1       0             1    2010     2  \n",
       "20663735       1       0             1    2000     0  \n",
       "2231378        0       0             1    1950     1  \n",
       "5272176        1       0             1    2000     6  \n",
       "1952976        0       1             1    2000     5  "
      ]
     },
     "execution_count": 19,
     "metadata": {},
     "output_type": "execute_result"
    }
   ],
   "source": [
    "unique_genre.head()"
   ]
  },
  {
   "cell_type": "code",
   "execution_count": 20,
   "metadata": {},
   "outputs": [],
   "source": [
    "comedy = unique_genre.loc[unique_genre['genres'] == 'Comedy']\n",
    "comedy_rev = comedy['revenue'].mean()\n",
    "action = unique_genre.loc[unique_genre['genres'] == 'Action']\n",
    "action_rev = action['revenue'].mean()\n",
    "horror = unique_genre.loc[unique_genre['genres'] == 'Horror']\n",
    "horror_rev = horror['revenue'].mean()\n"
   ]
  },
  {
   "cell_type": "code",
   "execution_count": 21,
   "metadata": {},
   "outputs": [
    {
     "name": "stdout",
     "output_type": "stream",
     "text": [
      "49221245.9323692\n",
      "98711644.14473684\n",
      "43040723.65815324\n"
     ]
    }
   ],
   "source": [
    "print(comedy_rev)\n",
    "print(action_rev)\n",
    "print(horror_rev)"
   ]
  },
  {
   "cell_type": "code",
   "execution_count": 22,
   "metadata": {},
   "outputs": [],
   "source": [
    "comedy_count = comedy['revenue'].count()\n",
    "horror_count = horror['revenue'].count()\n",
    "action_count = action['revenue'].count()"
   ]
  },
  {
   "cell_type": "code",
   "execution_count": 23,
   "metadata": {},
   "outputs": [
    {
     "name": "stdout",
     "output_type": "stream",
     "text": [
      "2351\n",
      "1064\n",
      "509\n"
     ]
    }
   ],
   "source": [
    "print(comedy_count)\n",
    "print(action_count)\n",
    "print(horror_count)"
   ]
  },
  {
   "cell_type": "code",
   "execution_count": 24,
   "metadata": {},
   "outputs": [
    {
     "data": {
      "text/plain": [
       "<AxesSubplot:xlabel='decade'>"
      ]
     },
     "execution_count": 24,
     "metadata": {},
     "output_type": "execute_result"
    },
    {
     "data": {
      "image/png": "[encoded data removed]",
      "text/plain": [
       "<Figure size 432x288 with 1 Axes>"
      ]
     },
     "metadata": {
      "needs_background": "light"
     },
     "output_type": "display_data"
    }
   ],
   "source": [
    "comedy.groupby(['decade', 'year'])['release'].count().unstack().plot.bar(stacked=True)"
   ]
  },
  {
   "cell_type": "code",
   "execution_count": 25,
   "metadata": {},
   "outputs": [
    {
     "data": {
      "text/plain": [
       "<AxesSubplot:xlabel='decade'>"
      ]
     },
     "execution_count": 25,
     "metadata": {},
     "output_type": "execute_result"
    },
    {
     "data": {
      "image/png": "[encoded data removed]",
      "text/plain": [
       "<Figure size 432x288 with 1 Axes>"
      ]
     },
     "metadata": {
      "needs_background": "light"
     },
     "output_type": "display_data"
    }
   ],
   "source": [
    "action.groupby(['decade', 'year'])['release'].count().unstack().plot.bar(stacked=True)"
   ]
  },
  {
   "cell_type": "code",
   "execution_count": 26,
   "metadata": {},
   "outputs": [
    {
     "data": {
      "text/plain": [
       "<AxesSubplot:xlabel='decade'>"
      ]
     },
     "execution_count": 26,
     "metadata": {},
     "output_type": "execute_result"
    },
    {
     "data": {
      "image/png": "[encoded data removed]",
      "text/plain": [
       "<Figure size 432x288 with 1 Axes>"
      ]
     },
     "metadata": {
      "needs_background": "light"
     },
     "output_type": "display_data"
    }
   ],
   "source": [
    "horror.groupby(['decade', 'year'])['release'].count().unstack().plot.bar(stacked=True)"
   ]
  },
  {
   "cell_type": "markdown",
   "metadata": {},
   "source": [
    "### Character data analysis"
   ]
  },
  {
   "cell_type": "code",
   "execution_count": 27,
   "metadata": {},
   "outputs": [
    {
     "data": {
      "text/html": [
       "<div>\n",
       "<style scoped>\n",
       "    .dataframe tbody tr th:only-of-type {\n",
       "        vertical-align: middle;\n",
       "    }\n",
       "\n",
       "    .dataframe tbody tr th {\n",
       "        vertical-align: top;\n",
       "    }\n",
       "\n",
       "    .dataframe thead th {\n",
       "        text-align: right;\n",
       "    }\n",
       "</style>\n",
       "<table border=\"1\" class=\"dataframe\">\n",
       "  <thead>\n",
       "    <tr style=\"text-align: right;\">\n",
       "      <th></th>\n",
       "      <th>freebase_id</th>\n",
       "      <th>release</th>\n",
       "      <th>character_name</th>\n",
       "      <th>actor_dob</th>\n",
       "      <th>actor_gender</th>\n",
       "      <th>actor_height</th>\n",
       "      <th>actor_ethnicity</th>\n",
       "      <th>actor_name</th>\n",
       "      <th>actor_age</th>\n",
       "      <th>freebase_chara_map</th>\n",
       "      <th>1</th>\n",
       "      <th>2</th>\n",
       "    </tr>\n",
       "    <tr>\n",
       "      <th>wiki_id</th>\n",
       "      <th></th>\n",
       "      <th></th>\n",
       "      <th></th>\n",
       "      <th></th>\n",
       "      <th></th>\n",
       "      <th></th>\n",
       "      <th></th>\n",
       "      <th></th>\n",
       "      <th></th>\n",
       "      <th></th>\n",
       "      <th></th>\n",
       "      <th></th>\n",
       "    </tr>\n",
       "  </thead>\n",
       "  <tbody>\n",
       "    <tr>\n",
       "      <th>975900</th>\n",
       "      <td>/m/03vyhn</td>\n",
       "      <td>2001-08-24</td>\n",
       "      <td>Akooshay</td>\n",
       "      <td>1958-08-26</td>\n",
       "      <td>F</td>\n",
       "      <td>1.620</td>\n",
       "      <td>NaN</td>\n",
       "      <td>Wanda De Jesus</td>\n",
       "      <td>42.0</td>\n",
       "      <td>/m/0bgchxw</td>\n",
       "      <td>/m/0bgcj3x</td>\n",
       "      <td>/m/03wcfv7</td>\n",
       "    </tr>\n",
       "    <tr>\n",
       "      <th>975900</th>\n",
       "      <td>/m/03vyhn</td>\n",
       "      <td>2001-08-24</td>\n",
       "      <td>Lieutenant Melanie Ballard</td>\n",
       "      <td>1974-08-15</td>\n",
       "      <td>F</td>\n",
       "      <td>1.780</td>\n",
       "      <td>/m/044038p</td>\n",
       "      <td>Natasha Henstridge</td>\n",
       "      <td>27.0</td>\n",
       "      <td>/m/0jys3m</td>\n",
       "      <td>/m/0bgchn4</td>\n",
       "      <td>/m/0346l4</td>\n",
       "    </tr>\n",
       "    <tr>\n",
       "      <th>975900</th>\n",
       "      <td>/m/03vyhn</td>\n",
       "      <td>2001-08-24</td>\n",
       "      <td>Desolation Williams</td>\n",
       "      <td>1969-06-15</td>\n",
       "      <td>M</td>\n",
       "      <td>1.727</td>\n",
       "      <td>/m/0x67</td>\n",
       "      <td>Ice Cube</td>\n",
       "      <td>32.0</td>\n",
       "      <td>/m/0jys3g</td>\n",
       "      <td>/m/0bgchn_</td>\n",
       "      <td>/m/01vw26l</td>\n",
       "    </tr>\n",
       "    <tr>\n",
       "      <th>975900</th>\n",
       "      <td>/m/03vyhn</td>\n",
       "      <td>2001-08-24</td>\n",
       "      <td>Sgt Jericho Butler</td>\n",
       "      <td>1967-09-12</td>\n",
       "      <td>M</td>\n",
       "      <td>1.750</td>\n",
       "      <td>NaN</td>\n",
       "      <td>Jason Statham</td>\n",
       "      <td>33.0</td>\n",
       "      <td>/m/02vchl6</td>\n",
       "      <td>/m/0bgchnq</td>\n",
       "      <td>/m/034hyc</td>\n",
       "    </tr>\n",
       "    <tr>\n",
       "      <th>975900</th>\n",
       "      <td>/m/03vyhn</td>\n",
       "      <td>2001-08-24</td>\n",
       "      <td>Bashira Kincaid</td>\n",
       "      <td>1977-09-25</td>\n",
       "      <td>F</td>\n",
       "      <td>1.650</td>\n",
       "      <td>NaN</td>\n",
       "      <td>Clea DuVall</td>\n",
       "      <td>23.0</td>\n",
       "      <td>/m/02vbb3r</td>\n",
       "      <td>/m/0bgchp9</td>\n",
       "      <td>/m/01y9xg</td>\n",
       "    </tr>\n",
       "  </tbody>\n",
       "</table>\n",
       "</div>"
      ],
      "text/plain": [
       "        freebase_id     release              character_name   actor_dob  \\\n",
       "wiki_id                                                                   \n",
       "975900    /m/03vyhn  2001-08-24                    Akooshay  1958-08-26   \n",
       "975900    /m/03vyhn  2001-08-24  Lieutenant Melanie Ballard  1974-08-15   \n",
       "975900    /m/03vyhn  2001-08-24         Desolation Williams  1969-06-15   \n",
       "975900    /m/03vyhn  2001-08-24          Sgt Jericho Butler  1967-09-12   \n",
       "975900    /m/03vyhn  2001-08-24             Bashira Kincaid  1977-09-25   \n",
       "\n",
       "        actor_gender  actor_height actor_ethnicity          actor_name  \\\n",
       "wiki_id                                                                  \n",
       "975900             F         1.620             NaN      Wanda De Jesus   \n",
       "975900             F         1.780      /m/044038p  Natasha Henstridge   \n",
       "975900             M         1.727         /m/0x67            Ice Cube   \n",
       "975900             M         1.750             NaN       Jason Statham   \n",
       "975900             F         1.650             NaN         Clea DuVall   \n",
       "\n",
       "         actor_age freebase_chara_map           1           2  \n",
       "wiki_id                                                        \n",
       "975900        42.0         /m/0bgchxw  /m/0bgcj3x  /m/03wcfv7  \n",
       "975900        27.0          /m/0jys3m  /m/0bgchn4   /m/0346l4  \n",
       "975900        32.0          /m/0jys3g  /m/0bgchn_  /m/01vw26l  \n",
       "975900        33.0         /m/02vchl6  /m/0bgchnq   /m/034hyc  \n",
       "975900        23.0         /m/02vbb3r  /m/0bgchp9   /m/01y9xg  "
      ]
     },
     "execution_count": 27,
     "metadata": {},
     "output_type": "execute_result"
    }
   ],
   "source": [
    "charadata.head()"
   ]
  },
  {
   "cell_type": "code",
   "execution_count": 28,
   "metadata": {},
   "outputs": [],
   "source": [
    "charadata_filtered = charadata_filtered.drop(['freebase_id','freebase_chara_map','1','2'], axis = 1)"
   ]
  },
  {
   "cell_type": "code",
   "execution_count": 29,
   "metadata": {},
   "outputs": [],
   "source": [
    "comedy_chardata = charadata_filtered.loc[comedy.index.intersection(charadata_filtered.index)]\n",
    "action_chardata = charadata_filtered.loc[action.index.intersection(charadata_filtered.index)]\n",
    "horror_chardata = charadata_filtered.loc[horror.index.intersection(charadata_filtered.index)]"
   ]
  },
  {
   "cell_type": "code",
   "execution_count": null,
   "metadata": {},
   "outputs": [],
   "source": [
    "comedy_chardata = comedy_chardata.groupby('wiki_id')"
   ]
  }
 ],
 "metadata": {
  "kernelspec": {
   "display_name": "Python 3.10.7 64-bit",
   "language": "python",
   "name": "python3"
  },
  "language_info": {
   "codemirror_mode": {
    "name": "ipython",
    "version": 3
   },
   "file_extension": ".py",
   "mimetype": "text/x-python",
   "name": "python",
   "nbconvert_exporter": "python",
   "pygments_lexer": "ipython3",
   "version": "3.10.7"
  },
  "orig_nbformat": 4,
  "vscode": {
   "interpreter": {
    "hash": "8e56757b7ab82012ee5a5076eaeb86d7c38f7b7f648ef4d5c76915fb2c9ebf36"
   }
  }
 },
 "nbformat": 4,
 "nbformat_minor": 2
}
